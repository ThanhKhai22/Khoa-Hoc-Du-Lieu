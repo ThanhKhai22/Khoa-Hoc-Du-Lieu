{
 "cells": [
  {
   "cell_type": "code",
   "execution_count": 1,
   "metadata": {},
   "outputs": [
    {
     "ename": "Error",
     "evalue": "iterator should return strings, not bytes (did you open the file in text mode?)",
     "output_type": "error",
     "traceback": [
      "\u001b[1;31m---------------------------------------------------------------------------\u001b[0m",
      "\u001b[1;31mError\u001b[0m                                     Traceback (most recent call last)",
      "\u001b[1;32me:\\KHDL\\data\\Untitled-1.ipynb Cell 1'\u001b[0m in \u001b[0;36m<module>\u001b[1;34m\u001b[0m\n\u001b[0;32m      <a href='vscode-notebook-cell:/e%3A/KHDL/data/Untitled-1.ipynb#ch0000000?line=2'>3</a>\u001b[0m output \u001b[39m=\u001b[39m \u001b[39mopen\u001b[39m(\u001b[39m'\u001b[39m\u001b[39mproducts.csv\u001b[39m\u001b[39m'\u001b[39m, \u001b[39m'\u001b[39m\u001b[39mwb\u001b[39m\u001b[39m'\u001b[39m)\n\u001b[0;32m      <a href='vscode-notebook-cell:/e%3A/KHDL/data/Untitled-1.ipynb#ch0000000?line=3'>4</a>\u001b[0m writer \u001b[39m=\u001b[39m csv\u001b[39m.\u001b[39mwriter(output)\n\u001b[1;32m----> <a href='vscode-notebook-cell:/e%3A/KHDL/data/Untitled-1.ipynb#ch0000000?line=4'>5</a>\u001b[0m \u001b[39mfor\u001b[39;00m row \u001b[39min\u001b[39;00m csv\u001b[39m.\u001b[39mreader(\u001b[39minput\u001b[39m):\n\u001b[0;32m      <a href='vscode-notebook-cell:/e%3A/KHDL/data/Untitled-1.ipynb#ch0000000?line=5'>6</a>\u001b[0m     \u001b[39mif\u001b[39;00m row[\u001b[39m2\u001b[39m]\u001b[39m!=\u001b[39m\u001b[39m0\u001b[39m:\n\u001b[0;32m      <a href='vscode-notebook-cell:/e%3A/KHDL/data/Untitled-1.ipynb#ch0000000?line=6'>7</a>\u001b[0m         writer\u001b[39m.\u001b[39mwriterow(row)\n",
      "\u001b[1;31mError\u001b[0m: iterator should return strings, not bytes (did you open the file in text mode?)"
     ]
    }
   ],
   "source": [
    "import csv\n",
    "input = open('product.csv', 'rb')\n",
    "output = open('products.csv', 'wb')\n",
    "writer = csv.writer(output)\n",
    "for row in csv.reader(input):\n",
    "    if row[2]!=0:\n",
    "        writer.writerow(row)\n",
    "input.close()\n",
    "output.close()"
   ]
  },
  {
   "cell_type": "code",
   "execution_count": 1,
   "metadata": {},
   "outputs": [],
   "source": [
    "import pandas as pd\n",
    "import seaborn as sns\n",
    "import numpy as np\n",
    "from sklearn.preprocessing import StandardScaler\n",
    "from sklearn.linear_model import LogisticRegression\n",
    "from sklearn.pipeline import make_pipeline\n",
    "from sklearn.datasets import load_iris\n",
    "from sklearn.model_selection import train_test_split\n",
    "from sklearn.metrics import accuracy_score\n",
    "from sklearn.datasets import make_regression\n",
    "from sklearn.linear_model import LinearRegression\n",
    "from sklearn.model_selection import cross_validate\n",
    "from sklearn.datasets import fetch_california_housing\n",
    "from sklearn.ensemble import RandomForestRegressor\n",
    "from sklearn.model_selection import RandomizedSearchCV\n",
    "from scipy.stats import randint\n",
    "import matplotlib.pyplot as plt"
   ]
  },
  {
   "cell_type": "code",
   "execution_count": 44,
   "metadata": {},
   "outputs": [],
   "source": [
    "df2 = pd.read_csv('E:\\KHDL\\data\\data.csv', 'r')\n"
   ]
  },
  {
   "cell_type": "code",
   "execution_count": 22,
   "metadata": {},
   "outputs": [
    {
     "name": "stderr",
     "output_type": "stream",
     "text": [
      "b'Skipping line 9: expected 65 fields, saw 66\\nSkipping line 11: expected 65 fields, saw 66\\nSkipping line 31: expected 65 fields, saw 66\\nSkipping line 33: expected 65 fields, saw 66\\nSkipping line 35: expected 65 fields, saw 66\\nSkipping line 43: expected 65 fields, saw 67\\nSkipping line 51: expected 65 fields, saw 66\\nSkipping line 59: expected 65 fields, saw 67\\nSkipping line 61: expected 65 fields, saw 67\\nSkipping line 107: expected 65 fields, saw 66\\nSkipping line 119: expected 65 fields, saw 66\\nSkipping line 165: expected 65 fields, saw 66\\nSkipping line 201: expected 65 fields, saw 66\\nSkipping line 211: expected 65 fields, saw 66\\nSkipping line 239: expected 65 fields, saw 66\\nSkipping line 323: expected 65 fields, saw 66\\nSkipping line 401: expected 65 fields, saw 66\\nSkipping line 499: expected 65 fields, saw 66\\nSkipping line 523: expected 65 fields, saw 66\\nSkipping line 545: expected 65 fields, saw 66\\nSkipping line 623: expected 65 fields, saw 66\\nSkipping line 635: expected 65 fields, saw 66\\nSkipping line 637: expected 65 fields, saw 66\\nSkipping line 771: expected 65 fields, saw 66\\nSkipping line 797: expected 65 fields, saw 66\\nSkipping line 1027: expected 65 fields, saw 66\\nSkipping line 1175: expected 65 fields, saw 66\\nSkipping line 1197: expected 65 fields, saw 66\\nSkipping line 1199: expected 65 fields, saw 66\\nSkipping line 1211: expected 65 fields, saw 66\\n'\n"
     ]
    },
    {
     "data": {
      "text/html": [
       "<div>\n",
       "<style scoped>\n",
       "    .dataframe tbody tr th:only-of-type {\n",
       "        vertical-align: middle;\n",
       "    }\n",
       "\n",
       "    .dataframe tbody tr th {\n",
       "        vertical-align: top;\n",
       "    }\n",
       "\n",
       "    .dataframe thead th {\n",
       "        text-align: right;\n",
       "    }\n",
       "</style>\n",
       "<table border=\"1\" class=\"dataframe\">\n",
       "  <thead>\n",
       "    <tr style=\"text-align: right;\">\n",
       "      <th></th>\n",
       "      <th>id</th>\n",
       "      <th>master_id</th>\n",
       "      <th>sku</th>\n",
       "      <th>name</th>\n",
       "      <th>url_key</th>\n",
       "      <th>url_path</th>\n",
       "      <th>short_url</th>\n",
       "      <th>type</th>\n",
       "      <th>book_cover</th>\n",
       "      <th>short_description</th>\n",
       "      <th>...</th>\n",
       "      <th>categories</th>\n",
       "      <th>breadcrumbs</th>\n",
       "      <th>installment_info</th>\n",
       "      <th>is_seller_in_chat_whitelist</th>\n",
       "      <th>inventory</th>\n",
       "      <th>warranty_info</th>\n",
       "      <th>return_and_exchange_policy</th>\n",
       "      <th>best_price_guaranteed</th>\n",
       "      <th>asa_cashback_widget</th>\n",
       "      <th>benefits</th>\n",
       "    </tr>\n",
       "  </thead>\n",
       "  <tbody>\n",
       "    <tr>\n",
       "      <th>0</th>\n",
       "      <td>148803925</td>\n",
       "      <td>148803925</td>\n",
       "      <td>9348252343063</td>\n",
       "      <td>Giày chạy bộ nam New Balance Classic - ML574</td>\n",
       "      <td>giay-chay-bo-nam-new-balance-classic-ml574-p14...</td>\n",
       "      <td>giay-chay-bo-nam-new-balance-classic-ml574-p14...</td>\n",
       "      <td>https://tiki.vn/product-p148803925.html?spid=1...</td>\n",
       "      <td>configurable</td>\n",
       "      <td>NaN</td>\n",
       "      <td>Giày chạy bộ nam New Balance Classic - ML574Th...</td>\n",
       "      <td>...</td>\n",
       "      <td>{\"id\": 24174, \"name\": \"Giày chạy bộ nam\", \"is_...</td>\n",
       "      <td>[{'url': '/the-thao-da-ngoai/c1975', 'name': '...</td>\n",
       "      <td>NaN</td>\n",
       "      <td>True</td>\n",
       "      <td>{\"product_virtual_type\": null, \"fulfillment_ty...</td>\n",
       "      <td>[{'name': 'Hướng dẫn bảo hành', 'value': 'Xem ...</td>\n",
       "      <td>Đổi trả trong&lt;br&gt;&lt;b&gt;30 ngày&lt;/b&gt;&lt;br&gt;nếu sp lỗi</td>\n",
       "      <td>True</td>\n",
       "      <td>{'sep': 5, 'rate': 633, 'astra_convert_rate': ...</td>\n",
       "      <td>[{'icon': 'https://salt.tikicdn.com/ts/upload/...</td>\n",
       "    </tr>\n",
       "  </tbody>\n",
       "</table>\n",
       "<p>1 rows × 65 columns</p>\n",
       "</div>"
      ],
      "text/plain": [
       "          id  master_id            sku  \\\n",
       "0  148803925  148803925  9348252343063   \n",
       "\n",
       "                                           name  \\\n",
       "0  Giày chạy bộ nam New Balance Classic - ML574   \n",
       "\n",
       "                                             url_key  \\\n",
       "0  giay-chay-bo-nam-new-balance-classic-ml574-p14...   \n",
       "\n",
       "                                            url_path  \\\n",
       "0  giay-chay-bo-nam-new-balance-classic-ml574-p14...   \n",
       "\n",
       "                                           short_url          type  \\\n",
       "0  https://tiki.vn/product-p148803925.html?spid=1...  configurable   \n",
       "\n",
       "   book_cover                                  short_description  ...  \\\n",
       "0         NaN  Giày chạy bộ nam New Balance Classic - ML574Th...  ...   \n",
       "\n",
       "                                          categories  \\\n",
       "0  {\"id\": 24174, \"name\": \"Giày chạy bộ nam\", \"is_...   \n",
       "\n",
       "                                         breadcrumbs  installment_info  \\\n",
       "0  [{'url': '/the-thao-da-ngoai/c1975', 'name': '...               NaN   \n",
       "\n",
       "  is_seller_in_chat_whitelist  \\\n",
       "0                        True   \n",
       "\n",
       "                                           inventory  \\\n",
       "0  {\"product_virtual_type\": null, \"fulfillment_ty...   \n",
       "\n",
       "                                       warranty_info  \\\n",
       "0  [{'name': 'Hướng dẫn bảo hành', 'value': 'Xem ...   \n",
       "\n",
       "                      return_and_exchange_policy  best_price_guaranteed  \\\n",
       "0  Đổi trả trong<br><b>30 ngày</b><br>nếu sp lỗi                   True   \n",
       "\n",
       "                                 asa_cashback_widget  \\\n",
       "0  {'sep': 5, 'rate': 633, 'astra_convert_rate': ...   \n",
       "\n",
       "                                            benefits  \n",
       "0  [{'icon': 'https://salt.tikicdn.com/ts/upload/...  \n",
       "\n",
       "[1 rows x 65 columns]"
      ]
     },
     "execution_count": 22,
     "metadata": {},
     "output_type": "execute_result"
    }
   ],
   "source": [
    "df = pd.read_csv('E:\\KHDL\\data\\product.csv', error_bad_lines=False)\n",
    "df.head(1)"
   ]
  },
  {
   "cell_type": "code",
   "execution_count": null,
   "metadata": {},
   "outputs": [],
   "source": []
  },
  {
   "cell_type": "code",
   "execution_count": 45,
   "metadata": {},
   "outputs": [],
   "source": [
    "df2['id'] = df['id']\n",
    "df2['name'] = df['name']\n",
    "df2['type'] = df['type']\n",
    "df2['price'] = df['price']\n",
    "df2['original_price'] = df['original_price']\n",
    "df2['discount'] = df['discount']\n",
    "df2['discount_rate'] = df['discount_rate']\n",
    "df2['rating_average'] = df['rating_average']\n",
    "df2['review_count'] = df['review_count']\n",
    "df2['productset_group_name'] = df['productset_group_name']\n",
    "df2['day_ago_created'] = df['day_ago_created']\n",
    "df2['all_time_quantity_sold'] = df['all_time_quantity_sold']\n",
    "df2.to_csv(\"output.csv\", sep=\",\")"
   ]
  },
  {
   "cell_type": "code",
   "execution_count": 46,
   "metadata": {},
   "outputs": [
    {
     "name": "stdout",
     "output_type": "stream",
     "text": [
      "<class 'pandas.core.frame.DataFrame'>\n",
      "RangeIndex: 1000 entries, 0 to 999\n",
      "Data columns (total 13 columns):\n",
      " #   Column                  Non-Null Count  Dtype  \n",
      "---  ------                  --------------  -----  \n",
      " 0   .                       0 non-null      object \n",
      " 1   id                      1000 non-null   int64  \n",
      " 2   name                    1000 non-null   object \n",
      " 3   type                    1000 non-null   object \n",
      " 4   price                   1000 non-null   int64  \n",
      " 5   original_price          1000 non-null   int64  \n",
      " 6   discount                1000 non-null   int64  \n",
      " 7   discount_rate           1000 non-null   int64  \n",
      " 8   rating_average          1000 non-null   float64\n",
      " 9   review_count            1000 non-null   int64  \n",
      " 10  productset_group_name   1000 non-null   object \n",
      " 11  day_ago_created         999 non-null    float64\n",
      " 12  all_time_quantity_sold  245 non-null    float64\n",
      "dtypes: float64(3), int64(6), object(4)\n",
      "memory usage: 101.7+ KB\n"
     ]
    }
   ],
   "source": [
    "\n",
    "df2.info()"
   ]
  },
  {
   "cell_type": "code",
   "execution_count": 3,
   "metadata": {},
   "outputs": [
    {
     "data": {
      "text/plain": [
       "0.0"
      ]
     },
     "execution_count": 3,
     "metadata": {},
     "output_type": "execute_result"
    }
   ],
   "source": [
    "df[\"rating_average\"].median()"
   ]
  },
  {
   "cell_type": "code",
   "execution_count": 4,
   "metadata": {},
   "outputs": [
    {
     "name": "stdout",
     "output_type": "stream",
     "text": [
      "<class 'pandas.core.frame.DataFrame'>\n",
      "RangeIndex: 1000 entries, 0 to 999\n",
      "Data columns (total 65 columns):\n",
      " #   Column                       Non-Null Count  Dtype  \n",
      "---  ------                       --------------  -----  \n",
      " 0   id                           1000 non-null   int64  \n",
      " 1   master_id                    1000 non-null   int64  \n",
      " 2   sku                          1000 non-null   int64  \n",
      " 3   name                         1000 non-null   object \n",
      " 4   url_key                      999 non-null    object \n",
      " 5   url_path                     1000 non-null   object \n",
      " 6   short_url                    1000 non-null   object \n",
      " 7   type                         1000 non-null   object \n",
      " 8   book_cover                   0 non-null      float64\n",
      " 9   short_description            1000 non-null   object \n",
      " 10  price                        1000 non-null   int64  \n",
      " 11  list_price                   1000 non-null   int64  \n",
      " 12  original_price               1000 non-null   int64  \n",
      " 13  badges                       1000 non-null   object \n",
      " 14  badges_new                   1000 non-null   object \n",
      " 15  discount                     1000 non-null   int64  \n",
      " 16  discount_rate                1000 non-null   int64  \n",
      " 17  rating_average               1000 non-null   float64\n",
      " 18  review_count                 1000 non-null   int64  \n",
      " 19  review_text                  1000 non-null   object \n",
      " 20  favourite_count              1000 non-null   int64  \n",
      " 21  thumbnail_url                1000 non-null   object \n",
      " 22  has_ebook                    1000 non-null   bool   \n",
      " 23  inventory_status             1000 non-null   object \n",
      " 24  inventory_type               1000 non-null   object \n",
      " 25  productset_group_name        1000 non-null   object \n",
      " 26  is_fresh                     1000 non-null   bool   \n",
      " 27  seller                       0 non-null      float64\n",
      " 28  is_flower                    1000 non-null   bool   \n",
      " 29  has_buynow                   1000 non-null   bool   \n",
      " 30  is_gift_card                 999 non-null    object \n",
      " 31  salable_type                 1 non-null      float64\n",
      " 32  data_version                 1000 non-null   int64  \n",
      " 33  day_ago_created              999 non-null    float64\n",
      " 34  all_time_quantity_sold       245 non-null    float64\n",
      " 35  meta_title                   0 non-null      float64\n",
      " 36  meta_description             1 non-null      object \n",
      " 37  meta_keywords                755 non-null    object \n",
      " 38  is_baby_milk                 1000 non-null   object \n",
      " 39  is_acoholic_drink            1000 non-null   object \n",
      " 40  description                  999 non-null    object \n",
      " 41  images                       246 non-null    object \n",
      " 42  warranty_policy              754 non-null    object \n",
      " 43  brand                        1000 non-null   object \n",
      " 44  current_seller               1000 non-null   object \n",
      " 45  other_sellers                1000 non-null   object \n",
      " 46  seller_specifications        1000 non-null   object \n",
      " 47  specifications               1000 non-null   object \n",
      " 48  product_links                1000 non-null   object \n",
      " 49  configurable_options         1000 non-null   object \n",
      " 50  configurable_products        999 non-null    object \n",
      " 51  services_and_promotions      1000 non-null   object \n",
      " 52  promitions                   991 non-null    object \n",
      " 53  stock_item                   667 non-null    object \n",
      " 54  quantity_sold                982 non-null    object \n",
      " 55  categories                   556 non-null    object \n",
      " 56  breadcrumbs                  963 non-null    object \n",
      " 57  installment_info             861 non-null    object \n",
      " 58  is_seller_in_chat_whitelist  986 non-null    object \n",
      " 59  inventory                    975 non-null    object \n",
      " 60  warranty_info                661 non-null    object \n",
      " 61  return_and_exchange_policy   639 non-null    object \n",
      " 62  best_price_guaranteed        223 non-null    object \n",
      " 63  asa_cashback_widget          162 non-null    object \n",
      " 64  benefits                     47 non-null     object \n",
      "dtypes: bool(4), float64(7), int64(11), object(43)\n",
      "memory usage: 480.6+ KB\n"
     ]
    }
   ],
   "source": [
    "df.info()"
   ]
  },
  {
   "cell_type": "code",
   "execution_count": 23,
   "metadata": {},
   "outputs": [
    {
     "data": {
      "text/html": [
       "<div>\n",
       "<style scoped>\n",
       "    .dataframe tbody tr th:only-of-type {\n",
       "        vertical-align: middle;\n",
       "    }\n",
       "\n",
       "    .dataframe tbody tr th {\n",
       "        vertical-align: top;\n",
       "    }\n",
       "\n",
       "    .dataframe thead th {\n",
       "        text-align: right;\n",
       "    }\n",
       "</style>\n",
       "<table border=\"1\" class=\"dataframe\">\n",
       "  <thead>\n",
       "    <tr style=\"text-align: right;\">\n",
       "      <th></th>\n",
       "      <th>id</th>\n",
       "      <th>master_id</th>\n",
       "      <th>sku</th>\n",
       "      <th>name</th>\n",
       "      <th>url_key</th>\n",
       "      <th>url_path</th>\n",
       "      <th>short_url</th>\n",
       "      <th>type</th>\n",
       "      <th>book_cover</th>\n",
       "      <th>short_description</th>\n",
       "      <th>...</th>\n",
       "      <th>categories</th>\n",
       "      <th>breadcrumbs</th>\n",
       "      <th>installment_info</th>\n",
       "      <th>is_seller_in_chat_whitelist</th>\n",
       "      <th>inventory</th>\n",
       "      <th>warranty_info</th>\n",
       "      <th>return_and_exchange_policy</th>\n",
       "      <th>best_price_guaranteed</th>\n",
       "      <th>asa_cashback_widget</th>\n",
       "      <th>benefits</th>\n",
       "    </tr>\n",
       "  </thead>\n",
       "  <tbody>\n",
       "  </tbody>\n",
       "</table>\n",
       "<p>0 rows × 65 columns</p>\n",
       "</div>"
      ],
      "text/plain": [
       "Empty DataFrame\n",
       "Columns: [id, master_id, sku, name, url_key, url_path, short_url, type, book_cover, short_description, price, list_price, original_price, badges, badges_new, discount, discount_rate, rating_average, review_count, review_text, favourite_count, thumbnail_url, has_ebook, inventory_status, inventory_type, productset_group_name, is_fresh, seller, is_flower, has_buynow, is_gift_card, salable_type, data_version, day_ago_created, all_time_quantity_sold, meta_title, meta_description, meta_keywords, is_baby_milk, is_acoholic_drink, description, images, warranty_policy, brand, current_seller, other_sellers, seller_specifications, specifications, product_links, configurable_options, configurable_products, services_and_promotions, promitions, stock_item, quantity_sold, categories, breadcrumbs, installment_info, is_seller_in_chat_whitelist, inventory, warranty_info, return_and_exchange_policy, best_price_guaranteed, asa_cashback_widget, benefits]\n",
       "Index: []\n",
       "\n",
       "[0 rows x 65 columns]"
      ]
     },
     "execution_count": 23,
     "metadata": {},
     "output_type": "execute_result"
    }
   ],
   "source": [
    "df2 = pd.read_csv('E:\\KHDL\\data\\data.csv')\n",
    "df2.head()"
   ]
  },
  {
   "cell_type": "code",
   "execution_count": 50,
   "metadata": {},
   "outputs": [
    {
     "name": "stdout",
     "output_type": "stream",
     "text": [
      "<class 'pandas.core.frame.DataFrame'>\n",
      "RangeIndex: 1000 entries, 0 to 999\n",
      "Data columns (total 13 columns):\n",
      " #   Column                  Non-Null Count  Dtype  \n",
      "---  ------                  --------------  -----  \n",
      " 0   Unnamed: 0              1000 non-null   int64  \n",
      " 1   id                      1000 non-null   int64  \n",
      " 2   name                    1000 non-null   object \n",
      " 3   type                    1000 non-null   object \n",
      " 4   price                   1000 non-null   int64  \n",
      " 5   original_price          1000 non-null   int64  \n",
      " 6   discount                1000 non-null   int64  \n",
      " 7   discount_rate           1000 non-null   int64  \n",
      " 8   rating_average          1000 non-null   float64\n",
      " 9   review_count            1000 non-null   int64  \n",
      " 10  productset_group_name   1000 non-null   object \n",
      " 11  day_ago_created         999 non-null    float64\n",
      " 12  all_time_quantity_sold  245 non-null    float64\n",
      "dtypes: float64(3), int64(7), object(3)\n",
      "memory usage: 101.7+ KB\n"
     ]
    }
   ],
   "source": [
    "df1 = pd.read_csv('E:\\KHDL\\data\\output.csv')\n",
    "df1.pop('.')\n",
    "df1.info()"
   ]
  },
  {
   "cell_type": "code",
   "execution_count": 156,
   "metadata": {},
   "outputs": [
    {
     "data": {
      "text/html": [
       "<div>\n",
       "<style scoped>\n",
       "    .dataframe tbody tr th:only-of-type {\n",
       "        vertical-align: middle;\n",
       "    }\n",
       "\n",
       "    .dataframe tbody tr th {\n",
       "        vertical-align: top;\n",
       "    }\n",
       "\n",
       "    .dataframe thead th {\n",
       "        text-align: right;\n",
       "    }\n",
       "</style>\n",
       "<table border=\"1\" class=\"dataframe\">\n",
       "  <thead>\n",
       "    <tr style=\"text-align: right;\">\n",
       "      <th></th>\n",
       "      <th>Unnamed: 0</th>\n",
       "      <th>id</th>\n",
       "      <th>name</th>\n",
       "      <th>type</th>\n",
       "      <th>price</th>\n",
       "      <th>original_price</th>\n",
       "      <th>discount</th>\n",
       "      <th>discount_rate</th>\n",
       "      <th>rating_average</th>\n",
       "      <th>review_count</th>\n",
       "      <th>productset_group_name</th>\n",
       "      <th>day_ago_created</th>\n",
       "      <th>all_time_quantity_sold</th>\n",
       "      <th>types</th>\n",
       "      <th>prices</th>\n",
       "      <th>count_price</th>\n",
       "      <th>pri30</th>\n",
       "    </tr>\n",
       "  </thead>\n",
       "  <tbody>\n",
       "    <tr>\n",
       "      <th>0</th>\n",
       "      <td>0</td>\n",
       "      <td>148803925</td>\n",
       "      <td>Giày chạy bộ nam New Balance Classic - ML574</td>\n",
       "      <td>configurable</td>\n",
       "      <td>1537000</td>\n",
       "      <td>2195000</td>\n",
       "      <td>658000</td>\n",
       "      <td>30</td>\n",
       "      <td>5.0</td>\n",
       "      <td>9</td>\n",
       "      <td>Thể Thao - Dã Ngoại/Giày thể thao nam/Giày chạ...</td>\n",
       "      <td>185.0</td>\n",
       "      <td>15.0</td>\n",
       "      <td>0</td>\n",
       "      <td>1</td>\n",
       "      <td>902.0</td>\n",
       "      <td>1537000</td>\n",
       "    </tr>\n",
       "    <tr>\n",
       "      <th>1</th>\n",
       "      <td>1</td>\n",
       "      <td>131347928</td>\n",
       "      <td>Giày Thể Thao Nam Biti’s Hunter X Z MIDNIGHT B...</td>\n",
       "      <td>configurable</td>\n",
       "      <td>1207000</td>\n",
       "      <td>1207000</td>\n",
       "      <td>0</td>\n",
       "      <td>0</td>\n",
       "      <td>4.7</td>\n",
       "      <td>372</td>\n",
       "      <td>Thể Thao - Dã Ngoại/Giày thể thao nam/Giày chạ...</td>\n",
       "      <td>238.0</td>\n",
       "      <td>752.0</td>\n",
       "      <td>0</td>\n",
       "      <td>1</td>\n",
       "      <td>40.0</td>\n",
       "      <td>1207000</td>\n",
       "    </tr>\n",
       "    <tr>\n",
       "      <th>2</th>\n",
       "      <td>2</td>\n",
       "      <td>56339896</td>\n",
       "      <td>Xe máy điện VinFast Klara S</td>\n",
       "      <td>configurable</td>\n",
       "      <td>39900000</td>\n",
       "      <td>39900000</td>\n",
       "      <td>0</td>\n",
       "      <td>0</td>\n",
       "      <td>4.6</td>\n",
       "      <td>513</td>\n",
       "      <td>Ô Tô - Xe Máy - Xe Đạp/Xe điện/Xe máy điện</td>\n",
       "      <td>734.0</td>\n",
       "      <td>1175.0</td>\n",
       "      <td>0</td>\n",
       "      <td>39</td>\n",
       "      <td>21.0</td>\n",
       "      <td>39900000</td>\n",
       "    </tr>\n",
       "    <tr>\n",
       "      <th>3</th>\n",
       "      <td>3</td>\n",
       "      <td>118281790</td>\n",
       "      <td>Giày Thể Thao Nam Biti’s Hunter X Z Collection...</td>\n",
       "      <td>configurable</td>\n",
       "      <td>1086000</td>\n",
       "      <td>1207000</td>\n",
       "      <td>121000</td>\n",
       "      <td>10</td>\n",
       "      <td>4.6</td>\n",
       "      <td>38</td>\n",
       "      <td>Thể Thao - Dã Ngoại/Giày thể thao nam/Giày chạ...</td>\n",
       "      <td>301.0</td>\n",
       "      <td>71.0</td>\n",
       "      <td>0</td>\n",
       "      <td>1</td>\n",
       "      <td>8.0</td>\n",
       "      <td>1086000</td>\n",
       "    </tr>\n",
       "    <tr>\n",
       "      <th>4</th>\n",
       "      <td>4</td>\n",
       "      <td>37468142</td>\n",
       "      <td>Giày thể thao nam IKEN S&amp;B - Xanh Dương</td>\n",
       "      <td>configurable</td>\n",
       "      <td>699000</td>\n",
       "      <td>699000</td>\n",
       "      <td>0</td>\n",
       "      <td>0</td>\n",
       "      <td>1.0</td>\n",
       "      <td>1</td>\n",
       "      <td>Thể Thao - Dã Ngoại/Giày thể thao nam/Giày chạ...</td>\n",
       "      <td>965.0</td>\n",
       "      <td>10.0</td>\n",
       "      <td>0</td>\n",
       "      <td>0</td>\n",
       "      <td>7.0</td>\n",
       "      <td>699000</td>\n",
       "    </tr>\n",
       "  </tbody>\n",
       "</table>\n",
       "</div>"
      ],
      "text/plain": [
       "   Unnamed: 0         id                                               name  \\\n",
       "0           0  148803925       Giày chạy bộ nam New Balance Classic - ML574   \n",
       "1           1  131347928  Giày Thể Thao Nam Biti’s Hunter X Z MIDNIGHT B...   \n",
       "2           2   56339896                       Xe máy điện VinFast Klara S    \n",
       "3           3  118281790  Giày Thể Thao Nam Biti’s Hunter X Z Collection...   \n",
       "4           4   37468142           Giày thể thao nam IKEN S&B - Xanh Dương    \n",
       "\n",
       "           type     price  original_price  discount  discount_rate  \\\n",
       "0  configurable   1537000         2195000    658000             30   \n",
       "1  configurable   1207000         1207000         0              0   \n",
       "2  configurable  39900000        39900000         0              0   \n",
       "3  configurable   1086000         1207000    121000             10   \n",
       "4  configurable    699000          699000         0              0   \n",
       "\n",
       "   rating_average  review_count  \\\n",
       "0             5.0             9   \n",
       "1             4.7           372   \n",
       "2             4.6           513   \n",
       "3             4.6            38   \n",
       "4             1.0             1   \n",
       "\n",
       "                               productset_group_name  day_ago_created  \\\n",
       "0  Thể Thao - Dã Ngoại/Giày thể thao nam/Giày chạ...            185.0   \n",
       "1  Thể Thao - Dã Ngoại/Giày thể thao nam/Giày chạ...            238.0   \n",
       "2         Ô Tô - Xe Máy - Xe Đạp/Xe điện/Xe máy điện            734.0   \n",
       "3  Thể Thao - Dã Ngoại/Giày thể thao nam/Giày chạ...            301.0   \n",
       "4  Thể Thao - Dã Ngoại/Giày thể thao nam/Giày chạ...            965.0   \n",
       "\n",
       "   all_time_quantity_sold  types  prices  count_price     pri30  \n",
       "0                    15.0      0       1        902.0   1537000  \n",
       "1                   752.0      0       1         40.0   1207000  \n",
       "2                  1175.0      0      39         21.0  39900000  \n",
       "3                    71.0      0       1          8.0   1086000  \n",
       "4                    10.0      0       0          7.0    699000  "
      ]
     },
     "execution_count": 156,
     "metadata": {},
     "output_type": "execute_result"
    }
   ],
   "source": [
    "df1.head()"
   ]
  },
  {
   "cell_type": "markdown",
   "metadata": {},
   "source": []
  },
  {
   "cell_type": "code",
   "execution_count": 52,
   "metadata": {},
   "outputs": [],
   "source": [
    "lookupTable, indexed_dataSet = np.unique(df1['type'], return_inverse=True)\n",
    "df1['types'] = indexed_dataSet"
   ]
  },
  {
   "cell_type": "code",
   "execution_count": 53,
   "metadata": {},
   "outputs": [
    {
     "data": {
      "text/plain": [
       "0      0\n",
       "1      0\n",
       "2      0\n",
       "3      0\n",
       "4      0\n",
       "      ..\n",
       "995    1\n",
       "996    0\n",
       "997    0\n",
       "998    0\n",
       "999    1\n",
       "Name: types, Length: 1000, dtype: int64"
      ]
     },
     "execution_count": 53,
     "metadata": {},
     "output_type": "execute_result"
    }
   ],
   "source": [
    "df1['types']"
   ]
  },
  {
   "cell_type": "code",
   "execution_count": 113,
   "metadata": {},
   "outputs": [],
   "source": [
    "import pandas as pd\n",
    "import numpy as np\n",
    "\n",
    "import matplotlib.pyplot as plt \n",
    "\n",
    "import plotly \n",
    "import plotly.express as px\n",
    "import plotly.graph_objs as go\n",
    "import plotly.offline as py\n",
    "from plotly.offline import iplot\n",
    "from plotly.subplots import make_subplots\n",
    "import plotly.figure_factory as ff\n",
    "import plotly.io as pio\n",
    "pio.renderers.default = \"notebook_connected\""
   ]
  },
  {
   "cell_type": "code",
   "execution_count": 135,
   "metadata": {},
   "outputs": [],
   "source": [
    "df1['prices'] = df1['price']//1000000"
   ]
  },
  {
   "cell_type": "code",
   "execution_count": 140,
   "metadata": {},
   "outputs": [
    {
     "data": {
      "text/plain": [
       "39"
      ]
     },
     "execution_count": 140,
     "metadata": {},
     "output_type": "execute_result"
    }
   ],
   "source": [
    "df1['prices'][2]"
   ]
  },
  {
   "cell_type": "code",
   "execution_count": 157,
   "metadata": {},
   "outputs": [
    {
     "ename": "TypeError",
     "evalue": "__call__() takes from 1 to 2 positional arguments but 3 were given",
     "output_type": "error",
     "traceback": [
      "\u001b[1;31m---------------------------------------------------------------------------\u001b[0m",
      "\u001b[1;31mTypeError\u001b[0m                                 Traceback (most recent call last)",
      "\u001b[1;32me:\\KHDL\\data\\Untitled-1.ipynb Cell 19'\u001b[0m in \u001b[0;36m<module>\u001b[1;34m\u001b[0m\n\u001b[0;32m      <a href='vscode-notebook-cell:/e%3A/KHDL/data/Untitled-1.ipynb#ch0000026?line=1'>2</a>\u001b[0m \u001b[39mfor\u001b[39;00m i \u001b[39min\u001b[39;00m \u001b[39mrange\u001b[39m(\u001b[39m0\u001b[39m,\u001b[39m1000\u001b[39m):\n\u001b[0;32m      <a href='vscode-notebook-cell:/e%3A/KHDL/data/Untitled-1.ipynb#ch0000026?line=2'>3</a>\u001b[0m     \u001b[39mif\u001b[39;00m df1[\u001b[39m'\u001b[39m\u001b[39mpri30\u001b[39m\u001b[39m'\u001b[39m][i] \u001b[39m<\u001b[39m\u001b[39m=\u001b[39m  \u001b[39m3000000\u001b[39m:\n\u001b[1;32m----> <a href='vscode-notebook-cell:/e%3A/KHDL/data/Untitled-1.ipynb#ch0000026?line=3'>4</a>\u001b[0m         df1\u001b[39m.\u001b[39;49miloc(i, \u001b[39m16\u001b[39;49m)\n",
      "\u001b[1;31mTypeError\u001b[0m: __call__() takes from 1 to 2 positional arguments but 3 were given"
     ]
    }
   ],
   "source": [
    "df1['count_price'] = df1['prices'].value_counts()\n",
    "for i in range(0,1000):\n",
    "    if df1['pri30'][i] <=  3000000:\n",
    "        df1.iloc(i, 16)"
   ]
  },
  {
   "cell_type": "code",
   "execution_count": 149,
   "metadata": {},
   "outputs": [],
   "source": [
    "df1['pri30'] = df1['price']\n"
   ]
  },
  {
   "cell_type": "code",
   "execution_count": 153,
   "metadata": {},
   "outputs": [
    {
     "data": {
      "text/plain": [
       "0       1537000\n",
       "1       1207000\n",
       "2      39900000\n",
       "3       1086000\n",
       "4        699000\n",
       "         ...   \n",
       "995      285000\n",
       "996      350000\n",
       "997      311000\n",
       "998       49000\n",
       "999      102000\n",
       "Name: pri30, Length: 1000, dtype: int64"
      ]
     },
     "execution_count": 153,
     "metadata": {},
     "output_type": "execute_result"
    }
   ],
   "source": [
    "df1['pri30']"
   ]
  },
  {
   "cell_type": "code",
   "execution_count": 134,
   "metadata": {},
   "outputs": [
    {
     "data": {
      "text/plain": [
       "<AxesSubplot:xlabel='discount_rate'>"
      ]
     },
     "execution_count": 134,
     "metadata": {},
     "output_type": "execute_result"
    },
    {
     "data": {
      "image/png": "[encoded data removed]",
      "text/plain": [
       "<Figure size 1440x720 with 4 Axes>"
      ]
     },
     "metadata": {
      "needs_background": "light"
     },
     "output_type": "display_data"
    }
   ],
   "source": [
    "figure, axis = plt.subplots(2, 2, figsize = (20,10))\n",
    "sns.boxplot(x=df1[\"discount_rate\"], palette=\"BuGn\", ax=axis[0,0])"
   ]
  },
  {
   "cell_type": "code",
   "execution_count": 123,
   "metadata": {},
   "outputs": [
    {
     "data": {
      "image/png": "[encoded data removed]",
      "text/plain": [
       "<Figure size 432x288 with 1 Axes>"
      ]
     },
     "metadata": {
      "needs_background": "light"
     },
     "output_type": "display_data"
    }
   ],
   "source": [
    "import matplotlib.pyplot as plt\n",
    "\n",
    "for i in df1.groupby('productset_group_name'):\n",
    "    plt.plot(i[1].prices,i[1].count_price,'-o',label=i[0])\n",
    "\n",
    "plt.xlabel('price')\n",
    "plt.ylabel('count_price')\n",
    "plt.show()"
   ]
  },
  {
   "cell_type": "code",
   "execution_count": 137,
   "metadata": {},
   "outputs": [
    {
     "data": {
      "text/html": [
       "<div>                            <div id=\"7aa63d03-d43b-4c62-a53b-1472bfef361d\" class=\"plotly-graph-div\" style=\"height:525px; width:100%;\"></div>            <script type=\"text/javascript\">                require([\"plotly\"], function(Plotly) {                    window.PLOTLYENV=window.PLOTLYENV || {};                                    if (document.getElementById(\"7aa63d03-d43b-4c62-a53b-1472bfef361d\")) {                    Plotly.newPlot(                        \"7aa63d03-d43b-4c62-a53b-1472bfef361d\",                        [{\"alignmentgroup\":\"True\",\"bingroup\":\"x\",\"hovertemplate\":\"prices=%{x}<br>count=%{y}<extra></extra>\",\"legendgroup\":\"\",\"marker\":{\"color\":\"#636efa\",\"pattern\":{\"shape\":\"\"}},\"name\":\"\",\"offsetgroup\":\"\",\"orientation\":\"v\",\"showlegend\":false,\"x\":[1,1,39,1,0,0,0,0,1,0,0,1,69,4,0,0,0,0,0,0,0,0,3,1,0,0,5,0,0,0,0,1,17,0,0,0,0,5,0,1,57,0,0,0,0,0,0,0,0,1,0,0,0,1,0,12,0,0,0,0,0,0,0,0,0,1,0,0,14,0,0,0,0,0,19,0,0,0,0,0,0,0,0,0,1,0,2,0,0,0,0,0,0,0,0,0,0,0,0,0,0,0,0,0,0,0,0,0,0,0,0,0,0,0,0,0,0,0,0,0,7,0,0,0,0,0,0,0,0,14,0,0,0,0,0,0,0,2,0,0,0,0,1,0,0,0,0,0,0,0,0,0,0,0,0,0,0,1,6,0,0,0,0,0,4,0,0,0,0,0,0,0,0,0,0,0,0,2,0,0,0,1,0,26,0,0,0,0,0,0,0,0,4,0,0,1,0,0,0,4,0,0,4,48,0,0,0,0,2,0,1,0,0,1,0,0,6,0,0,0,0,2,0,0,0,0,0,0,0,0,0,0,0,0,0,0,0,0,0,0,0,0,0,0,0,0,0,0,0,0,0,0,0,0,2,0,0,0,0,0,0,0,0,0,0,0,0,0,0,0,0,0,0,0,0,0,0,0,0,0,3,0,0,0,0,0,0,0,2,0,0,0,0,0,0,0,0,0,0,1,0,0,1,0,0,0,0,0,0,0,0,0,12,0,0,2,0,0,0,0,0,0,1,0,0,0,0,2,0,0,0,0,0,0,4,0,1,0,0,0,0,0,6,0,0,3,0,0,2,0,0,0,0,0,0,0,1,0,0,0,0,3,0,0,0,0,0,0,0,1,1,0,0,0,0,0,0,3,0,0,0,0,0,0,0,0,0,0,0,0,0,0,0,0,0,0,0,35,1,0,0,0,0,0,0,0,0,0,0,0,0,0,0,0,0,0,0,0,0,0,0,0,1,0,0,0,0,0,0,0,1,0,0,0,0,0,0,0,0,0,0,0,0,0,0,0,0,0,0,0,0,0,0,0,0,0,0,0,0,0,0,0,0,2,0,0,0,0,0,10,0,0,0,2,0,0,0,0,0,0,0,0,0,0,0,0,0,1,0,0,0,0,0,0,0,0,0,0,0,0,0,0,0,0,0,0,0,19,0,0,1,0,0,0,0,1,1,0,0,0,0,1,0,0,0,0,0,0,0,0,0,0,0,0,0,0,0,0,0,0,1,0,0,0,0,0,0,0,0,0,0,0,0,0,0,0,2,0,0,0,0,0,0,0,0,0,1,0,0,0,0,0,0,0,0,0,0,0,0,0,0,0,0,0,0,0,0,0,0,0,0,0,0,0,0,0,0,0,0,0,0,0,0,0,0,0,0,0,0,2,0,0,0,0,0,0,0,0,0,0,0,0,0,0,0,0,0,0,0,0,0,0,0,0,0,0,0,0,0,0,0,0,0,0,0,0,1,0,0,10,0,0,0,0,0,0,0,0,0,0,0,0,0,0,0,0,0,0,0,0,0,0,0,0,0,0,0,0,0,0,3,0,0,0,0,0,0,0,0,0,0,0,0,0,2,0,0,0,0,0,0,0,1,2,0,0,0,0,0,0,0,0,0,0,0,0,0,0,0,10,0,0,0,0,0,0,0,0,0,0,0,0,0,0,0,1,0,0,0,0,0,0,0,0,0,0,0,0,0,0,0,0,0,0,0,0,0,2,0,0,0,0,0,0,0,0,0,0,0,2,0,0,0,0,0,0,0,0,0,0,0,0,2,0,0,0,0,0,0,0,0,0,0,0,0,0,0,0,0,0,0,0,0,0,0,0,0,0,0,0,0,0,0,0,0,0,0,0,0,0,0,0,0,0,0,0,0,0,0,0,0,0,0,0,0,0,0,0,0,0,0,0,0,0,0,0,0,0,0,0,0,0,0,0,0,0,0,0,0,0,0,0,0,0,0,0,0,0,0,0,0,1,0,0,0,0,0,0,0,0,0,0,0,3,0,0,0,0,0,0,0,0,0,0,3,0,0,0,0,0,0,0,0,0,0,0,0,0,0,0,2,0,0,0,0,0,2,0,0,0,4,0,0,0,0,0,0,0,0,0,0,0,0,0,0,0,0,0,0,0,0,0,0,0,0,0,0,0,0,0,0,0,0,0,0,0,0,0,0,0,0,0,0,0,0,0,0,0,0,0,0,0,0,0,0,0,0,0,0,0,0,0,0,0,0,1,0,0,0,0,0,0,0,0,0,0,0,0,0,0],\"xaxis\":\"x\",\"yaxis\":\"y\",\"type\":\"histogram\"}],                        {\"template\":{\"data\":{\"histogram2dcontour\":[{\"type\":\"histogram2dcontour\",\"colorbar\":{\"outlinewidth\":0,\"ticks\":\"\"},\"colorscale\":[[0.0,\"#0d0887\"],[0.1111111111111111,\"#46039f\"],[0.2222222222222222,\"#7201a8\"],[0.3333333333333333,\"#9c179e\"],[0.4444444444444444,\"#bd3786\"],[0.5555555555555556,\"#d8576b\"],[0.6666666666666666,\"#ed7953\"],[0.7777777777777778,\"#fb9f3a\"],[0.8888888888888888,\"#fdca26\"],[1.0,\"#f0f921\"]]}],\"choropleth\":[{\"type\":\"choropleth\",\"colorbar\":{\"outlinewidth\":0,\"ticks\":\"\"}}],\"histogram2d\":[{\"type\":\"histogram2d\",\"colorbar\":{\"outlinewidth\":0,\"ticks\":\"\"},\"colorscale\":[[0.0,\"#0d0887\"],[0.1111111111111111,\"#46039f\"],[0.2222222222222222,\"#7201a8\"],[0.3333333333333333,\"#9c179e\"],[0.4444444444444444,\"#bd3786\"],[0.5555555555555556,\"#d8576b\"],[0.6666666666666666,\"#ed7953\"],[0.7777777777777778,\"#fb9f3a\"],[0.8888888888888888,\"#fdca26\"],[1.0,\"#f0f921\"]]}],\"heatmap\":[{\"type\":\"heatmap\",\"colorbar\":{\"outlinewidth\":0,\"ticks\":\"\"},\"colorscale\":[[0.0,\"#0d0887\"],[0.1111111111111111,\"#46039f\"],[0.2222222222222222,\"#7201a8\"],[0.3333333333333333,\"#9c179e\"],[0.4444444444444444,\"#bd3786\"],[0.5555555555555556,\"#d8576b\"],[0.6666666666666666,\"#ed7953\"],[0.7777777777777778,\"#fb9f3a\"],[0.8888888888888888,\"#fdca26\"],[1.0,\"#f0f921\"]]}],\"heatmapgl\":[{\"type\":\"heatmapgl\",\"colorbar\":{\"outlinewidth\":0,\"ticks\":\"\"},\"colorscale\":[[0.0,\"#0d0887\"],[0.1111111111111111,\"#46039f\"],[0.2222222222222222,\"#7201a8\"],[0.3333333333333333,\"#9c179e\"],[0.4444444444444444,\"#bd3786\"],[0.5555555555555556,\"#d8576b\"],[0.6666666666666666,\"#ed7953\"],[0.7777777777777778,\"#fb9f3a\"],[0.8888888888888888,\"#fdca26\"],[1.0,\"#f0f921\"]]}],\"contourcarpet\":[{\"type\":\"contourcarpet\",\"colorbar\":{\"outlinewidth\":0,\"ticks\":\"\"}}],\"contour\":[{\"type\":\"contour\",\"colorbar\":{\"outlinewidth\":0,\"ticks\":\"\"},\"colorscale\":[[0.0,\"#0d0887\"],[0.1111111111111111,\"#46039f\"],[0.2222222222222222,\"#7201a8\"],[0.3333333333333333,\"#9c179e\"],[0.4444444444444444,\"#bd3786\"],[0.5555555555555556,\"#d8576b\"],[0.6666666666666666,\"#ed7953\"],[0.7777777777777778,\"#fb9f3a\"],[0.8888888888888888,\"#fdca26\"],[1.0,\"#f0f921\"]]}],\"surface\":[{\"type\":\"surface\",\"colorbar\":{\"outlinewidth\":0,\"ticks\":\"\"},\"colorscale\":[[0.0,\"#0d0887\"],[0.1111111111111111,\"#46039f\"],[0.2222222222222222,\"#7201a8\"],[0.3333333333333333,\"#9c179e\"],[0.4444444444444444,\"#bd3786\"],[0.5555555555555556,\"#d8576b\"],[0.6666666666666666,\"#ed7953\"],[0.7777777777777778,\"#fb9f3a\"],[0.8888888888888888,\"#fdca26\"],[1.0,\"#f0f921\"]]}],\"mesh3d\":[{\"type\":\"mesh3d\",\"colorbar\":{\"outlinewidth\":0,\"ticks\":\"\"}}],\"scatter\":[{\"fillpattern\":{\"fillmode\":\"overlay\",\"size\":10,\"solidity\":0.2},\"type\":\"scatter\"}],\"parcoords\":[{\"type\":\"parcoords\",\"line\":{\"colorbar\":{\"outlinewidth\":0,\"ticks\":\"\"}}}],\"scatterpolargl\":[{\"type\":\"scatterpolargl\",\"marker\":{\"colorbar\":{\"outlinewidth\":0,\"ticks\":\"\"}}}],\"bar\":[{\"error_x\":{\"color\":\"#2a3f5f\"},\"error_y\":{\"color\":\"#2a3f5f\"},\"marker\":{\"line\":{\"color\":\"#E5ECF6\",\"width\":0.5},\"pattern\":{\"fillmode\":\"overlay\",\"size\":10,\"solidity\":0.2}},\"type\":\"bar\"}],\"scattergeo\":[{\"type\":\"scattergeo\",\"marker\":{\"colorbar\":{\"outlinewidth\":0,\"ticks\":\"\"}}}],\"scatterpolar\":[{\"type\":\"scatterpolar\",\"marker\":{\"colorbar\":{\"outlinewidth\":0,\"ticks\":\"\"}}}],\"histogram\":[{\"marker\":{\"pattern\":{\"fillmode\":\"overlay\",\"size\":10,\"solidity\":0.2}},\"type\":\"histogram\"}],\"scattergl\":[{\"type\":\"scattergl\",\"marker\":{\"colorbar\":{\"outlinewidth\":0,\"ticks\":\"\"}}}],\"scatter3d\":[{\"type\":\"scatter3d\",\"line\":{\"colorbar\":{\"outlinewidth\":0,\"ticks\":\"\"}},\"marker\":{\"colorbar\":{\"outlinewidth\":0,\"ticks\":\"\"}}}],\"scattermapbox\":[{\"type\":\"scattermapbox\",\"marker\":{\"colorbar\":{\"outlinewidth\":0,\"ticks\":\"\"}}}],\"scatterternary\":[{\"type\":\"scatterternary\",\"marker\":{\"colorbar\":{\"outlinewidth\":0,\"ticks\":\"\"}}}],\"scattercarpet\":[{\"type\":\"scattercarpet\",\"marker\":{\"colorbar\":{\"outlinewidth\":0,\"ticks\":\"\"}}}],\"carpet\":[{\"aaxis\":{\"endlinecolor\":\"#2a3f5f\",\"gridcolor\":\"white\",\"linecolor\":\"white\",\"minorgridcolor\":\"white\",\"startlinecolor\":\"#2a3f5f\"},\"baxis\":{\"endlinecolor\":\"#2a3f5f\",\"gridcolor\":\"white\",\"linecolor\":\"white\",\"minorgridcolor\":\"white\",\"startlinecolor\":\"#2a3f5f\"},\"type\":\"carpet\"}],\"table\":[{\"cells\":{\"fill\":{\"color\":\"#EBF0F8\"},\"line\":{\"color\":\"white\"}},\"header\":{\"fill\":{\"color\":\"#C8D4E3\"},\"line\":{\"color\":\"white\"}},\"type\":\"table\"}],\"barpolar\":[{\"marker\":{\"line\":{\"color\":\"#E5ECF6\",\"width\":0.5},\"pattern\":{\"fillmode\":\"overlay\",\"size\":10,\"solidity\":0.2}},\"type\":\"barpolar\"}],\"pie\":[{\"automargin\":true,\"type\":\"pie\"}]},\"layout\":{\"autotypenumbers\":\"strict\",\"colorway\":[\"#636efa\",\"#EF553B\",\"#00cc96\",\"#ab63fa\",\"#FFA15A\",\"#19d3f3\",\"#FF6692\",\"#B6E880\",\"#FF97FF\",\"#FECB52\"],\"font\":{\"color\":\"#2a3f5f\"},\"hovermode\":\"closest\",\"hoverlabel\":{\"align\":\"left\"},\"paper_bgcolor\":\"white\",\"plot_bgcolor\":\"#E5ECF6\",\"polar\":{\"bgcolor\":\"#E5ECF6\",\"angularaxis\":{\"gridcolor\":\"white\",\"linecolor\":\"white\",\"ticks\":\"\"},\"radialaxis\":{\"gridcolor\":\"white\",\"linecolor\":\"white\",\"ticks\":\"\"}},\"ternary\":{\"bgcolor\":\"#E5ECF6\",\"aaxis\":{\"gridcolor\":\"white\",\"linecolor\":\"white\",\"ticks\":\"\"},\"baxis\":{\"gridcolor\":\"white\",\"linecolor\":\"white\",\"ticks\":\"\"},\"caxis\":{\"gridcolor\":\"white\",\"linecolor\":\"white\",\"ticks\":\"\"}},\"coloraxis\":{\"colorbar\":{\"outlinewidth\":0,\"ticks\":\"\"}},\"colorscale\":{\"sequential\":[[0.0,\"#0d0887\"],[0.1111111111111111,\"#46039f\"],[0.2222222222222222,\"#7201a8\"],[0.3333333333333333,\"#9c179e\"],[0.4444444444444444,\"#bd3786\"],[0.5555555555555556,\"#d8576b\"],[0.6666666666666666,\"#ed7953\"],[0.7777777777777778,\"#fb9f3a\"],[0.8888888888888888,\"#fdca26\"],[1.0,\"#f0f921\"]],\"sequentialminus\":[[0.0,\"#0d0887\"],[0.1111111111111111,\"#46039f\"],[0.2222222222222222,\"#7201a8\"],[0.3333333333333333,\"#9c179e\"],[0.4444444444444444,\"#bd3786\"],[0.5555555555555556,\"#d8576b\"],[0.6666666666666666,\"#ed7953\"],[0.7777777777777778,\"#fb9f3a\"],[0.8888888888888888,\"#fdca26\"],[1.0,\"#f0f921\"]],\"diverging\":[[0,\"#8e0152\"],[0.1,\"#c51b7d\"],[0.2,\"#de77ae\"],[0.3,\"#f1b6da\"],[0.4,\"#fde0ef\"],[0.5,\"#f7f7f7\"],[0.6,\"#e6f5d0\"],[0.7,\"#b8e186\"],[0.8,\"#7fbc41\"],[0.9,\"#4d9221\"],[1,\"#276419\"]]},\"xaxis\":{\"gridcolor\":\"white\",\"linecolor\":\"white\",\"ticks\":\"\",\"title\":{\"standoff\":15},\"zerolinecolor\":\"white\",\"automargin\":true,\"zerolinewidth\":2},\"yaxis\":{\"gridcolor\":\"white\",\"linecolor\":\"white\",\"ticks\":\"\",\"title\":{\"standoff\":15},\"zerolinecolor\":\"white\",\"automargin\":true,\"zerolinewidth\":2},\"scene\":{\"xaxis\":{\"backgroundcolor\":\"#E5ECF6\",\"gridcolor\":\"white\",\"linecolor\":\"white\",\"showbackground\":true,\"ticks\":\"\",\"zerolinecolor\":\"white\",\"gridwidth\":2},\"yaxis\":{\"backgroundcolor\":\"#E5ECF6\",\"gridcolor\":\"white\",\"linecolor\":\"white\",\"showbackground\":true,\"ticks\":\"\",\"zerolinecolor\":\"white\",\"gridwidth\":2},\"zaxis\":{\"backgroundcolor\":\"#E5ECF6\",\"gridcolor\":\"white\",\"linecolor\":\"white\",\"showbackground\":true,\"ticks\":\"\",\"zerolinecolor\":\"white\",\"gridwidth\":2}},\"shapedefaults\":{\"line\":{\"color\":\"#2a3f5f\"}},\"annotationdefaults\":{\"arrowcolor\":\"#2a3f5f\",\"arrowhead\":0,\"arrowwidth\":1},\"geo\":{\"bgcolor\":\"white\",\"landcolor\":\"#E5ECF6\",\"subunitcolor\":\"white\",\"showland\":true,\"showlakes\":true,\"lakecolor\":\"white\"},\"title\":{\"x\":0.05},\"mapbox\":{\"style\":\"light\"}}},\"xaxis\":{\"anchor\":\"y\",\"domain\":[0.0,1.0],\"title\":{\"text\":\"prices\"}},\"yaxis\":{\"anchor\":\"x\",\"domain\":[0.0,1.0],\"title\":{\"text\":\"count\"}},\"legend\":{\"tracegroupgap\":0},\"title\":{\"text\":\"Price\"},\"barmode\":\"relative\"},                        {\"responsive\": true}                    ).then(function(){\n",
       "                            \n",
       "var gd = document.getElementById('7aa63d03-d43b-4c62-a53b-1472bfef361d');\n",
       "var x = new MutationObserver(function (mutations, observer) {{\n",
       "        var display = window.getComputedStyle(gd).display;\n",
       "        if (!display || display === 'none') {{\n",
       "            console.log([gd, 'removed!']);\n",
       "            Plotly.purge(gd);\n",
       "            observer.disconnect();\n",
       "        }}\n",
       "}});\n",
       "\n",
       "// Listen for the removal of the full notebook cells\n",
       "var notebookContainer = gd.closest('#notebook-container');\n",
       "if (notebookContainer) {{\n",
       "    x.observe(notebookContainer, {childList: true});\n",
       "}}\n",
       "\n",
       "// Listen for the clearing of the current output cell\n",
       "var outputEl = gd.closest('.output');\n",
       "if (outputEl) {{\n",
       "    x.observe(outputEl, {childList: true});\n",
       "}}\n",
       "\n",
       "                        })                };                });            </script>        </div>"
      ]
     },
     "metadata": {},
     "output_type": "display_data"
    }
   ],
   "source": [
    "fig = px.histogram(df1, x= 'prices', title='Price')\n",
    "\n",
    "fig.show()"
   ]
  },
  {
   "cell_type": "code",
   "execution_count": 54,
   "metadata": {},
   "outputs": [
    {
     "data": {
      "text/plain": [
       "35000       13\n",
       "48000       13\n",
       "20000       13\n",
       "180000      12\n",
       "120000      12\n",
       "            ..\n",
       "795000       1\n",
       "164000       1\n",
       "48500        1\n",
       "14790000     1\n",
       "126000       1\n",
       "Name: price, Length: 516, dtype: int64"
      ]
     },
     "execution_count": 54,
     "metadata": {},
     "output_type": "execute_result"
    }
   ],
   "source": [
    "pri = df1[\"price\"].value_counts()\n",
    "pri"
   ]
  },
  {
   "cell_type": "code",
   "execution_count": 55,
   "metadata": {},
   "outputs": [
    {
     "data": {
      "text/plain": [
       "1.0       51\n",
       "2.0       25\n",
       "3.0       23\n",
       "4.0       11\n",
       "5.0       11\n",
       "          ..\n",
       "1175.0     1\n",
       "48.0       1\n",
       "390.0      1\n",
       "752.0      1\n",
       "31.0       1\n",
       "Name: all_time_quantity_sold, Length: 66, dtype: int64"
      ]
     },
     "execution_count": 55,
     "metadata": {},
     "output_type": "execute_result"
    }
   ],
   "source": [
    "a = df1[\"all_time_quantity_sold\"].value_counts()\n",
    "a"
   ]
  },
  {
   "cell_type": "code",
   "execution_count": 56,
   "metadata": {},
   "outputs": [
    {
     "data": {
      "text/plain": [
       "<seaborn.axisgrid.FacetGrid at 0x1e21171d6a0>"
      ]
     },
     "execution_count": 56,
     "metadata": {},
     "output_type": "execute_result"
    },
    {
     "data": {
      "image/png": "[encoded data removed]",
      "text/plain": [
       "<Figure size 360x360 with 1 Axes>"
      ]
     },
     "metadata": {
      "needs_background": "light"
     },
     "output_type": "display_data"
    }
   ],
   "source": [
    "sns.relplot(x='price', y='all_time_quantity_sold', data=df1)"
   ]
  },
  {
   "cell_type": "code",
   "execution_count": 57,
   "metadata": {},
   "outputs": [
    {
     "data": {
      "text/plain": [
       "<seaborn.axisgrid.FacetGrid at 0x1e21175b070>"
      ]
     },
     "execution_count": 57,
     "metadata": {},
     "output_type": "execute_result"
    },
    {
     "data": {
      "image/png": "[encoded data removed]",
      "text/plain": [
       "<Figure size 360x360 with 1 Axes>"
      ]
     },
     "metadata": {
      "needs_background": "light"
     },
     "output_type": "display_data"
    }
   ],
   "source": [
    "sns.relplot(x='price', y='original_price', data=df1)"
   ]
  },
  {
   "cell_type": "code",
   "execution_count": 58,
   "metadata": {},
   "outputs": [
    {
     "data": {
      "text/plain": [
       "<seaborn.axisgrid.FacetGrid at 0x1e2127e36a0>"
      ]
     },
     "execution_count": 58,
     "metadata": {},
     "output_type": "execute_result"
    },
    {
     "data": {
      "image/png": "[encoded data removed]",
      "text/plain": [
       "<Figure size 360x360 with 1 Axes>"
      ]
     },
     "metadata": {
      "needs_background": "light"
     },
     "output_type": "display_data"
    }
   ],
   "source": [
    "sns.relplot(x='price', y='discount', data=df1)"
   ]
  },
  {
   "cell_type": "code",
   "execution_count": 59,
   "metadata": {},
   "outputs": [
    {
     "data": {
      "text/plain": [
       "<seaborn.axisgrid.FacetGrid at 0x1e21284eb80>"
      ]
     },
     "execution_count": 59,
     "metadata": {},
     "output_type": "execute_result"
    },
    {
     "data": {
      "image/png": "[encoded data removed]",
      "text/plain": [
       "<Figure size 360x360 with 1 Axes>"
      ]
     },
     "metadata": {
      "needs_background": "light"
     },
     "output_type": "display_data"
    }
   ],
   "source": [
    "sns.relplot(x='price', y='discount_rate', data=df1)"
   ]
  },
  {
   "cell_type": "code",
   "execution_count": 20,
   "metadata": {},
   "outputs": [
    {
     "data": {
      "text/plain": [
       "<AxesSubplot:xlabel='review_count'>"
      ]
     },
     "execution_count": 20,
     "metadata": {},
     "output_type": "execute_result"
    },
    {
     "data": {
      "image/png": "[encoded data removed]",
      "text/plain": [
       "<Figure size 1440x720 with 4 Axes>"
      ]
     },
     "metadata": {
      "needs_background": "light"
     },
     "output_type": "display_data"
    }
   ],
   "source": [
    "figure, axis = plt.subplots(2, 2, figsize = (20,10))\n",
    "sns.boxplot(x=df[\"review_count\"], palette=\"BuGn\", ax=axis[0,0])"
   ]
  },
  {
   "cell_type": "code",
   "execution_count": 55,
   "metadata": {},
   "outputs": [
    {
     "data": {
      "text/plain": [
       "1000"
      ]
     },
     "execution_count": 55,
     "metadata": {},
     "output_type": "execute_result"
    }
   ],
   "source": [
    "df['all_time_quantity_sold'].notnull().count()"
   ]
  },
  {
   "cell_type": "code",
   "execution_count": 56,
   "metadata": {},
   "outputs": [
    {
     "data": {
      "text/plain": [
       "0.9974232116065406"
      ]
     },
     "execution_count": 56,
     "metadata": {},
     "output_type": "execute_result"
    }
   ],
   "source": [
    "X = df[['list_price','types','rating_average']]\n",
    "#X = df[['Genre','Premiere','Runtime','Language']]\n",
    "y = df['price']\n",
    "X_train, X_test, y_train, y_test = train_test_split(X, y, test_size=0.3, random_state=2)\n",
    "reg = LinearRegression()\n",
    "reg.fit(X_train, y_train)\n",
    "pred = reg.predict(X_test)\n",
    "reg.score(X_test, y_test)"
   ]
  }
 ],
 "metadata": {
  "kernelspec": {
   "display_name": "Python 3.9.7 64-bit",
   "language": "python",
   "name": "python3"
  },
  "language_info": {
   "codemirror_mode": {
    "name": "ipython",
    "version": 3
   },
   "file_extension": ".py",
   "mimetype": "text/x-python",
   "name": "python",
   "nbconvert_exporter": "python",
   "pygments_lexer": "ipython3",
   "version": "3.9.7"
  },
  "orig_nbformat": 4,
  "vscode": {
   "interpreter": {
    "hash": "0d591c6e422414675974e227c13f5382000c440fedd3c5006ef2be5d887f0ba7"
   }
  }
 },
 "nbformat": 4,
 "nbformat_minor": 2
}
