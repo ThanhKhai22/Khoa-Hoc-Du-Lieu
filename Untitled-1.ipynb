{
 "cells": [
  {
   "cell_type": "code",
   "execution_count": 1,
   "metadata": {},
   "outputs": [],
   "source": [
    "from email import header\n",
    "from urllib import response\n",
    "import requests\n",
    "import json\n",
    "import csv\n",
    "import numpy as np\n",
    "import pandas as pd"
   ]
  },
  {
   "cell_type": "code",
   "execution_count": 2,
   "metadata": {},
   "outputs": [],
   "source": [
    "nhasach_url = \"https://tiki.vn/api/personalish/v1/blocks/listings?limit=48&include=advertisement&aggregations=2&trackity_id=7ac7bd0c-d274-5d0e-12e8-2c461a9e0820&category=8322&page=1&urlKey=nha-sach-tiki\""
   ]
  },
  {
   "cell_type": "code",
   "execution_count": 4,
   "metadata": {},
   "outputs": [
    {
     "name": "stdout",
     "output_type": "stream",
     "text": [
      "<Response [400]>\n",
      "page 1\n",
      "<Response [400]>\n",
      "page 2\n",
      "<Response [400]>\n",
      "page 3\n",
      "<Response [400]>\n",
      "page 4\n",
      "<Response [400]>\n",
      "page 5\n",
      "<Response [400]>\n",
      "page 6\n",
      "<Response [400]>\n",
      "page 7\n",
      "<Response [400]>\n",
      "page 8\n",
      "<Response [400]>\n",
      "page 9\n",
      "<Response [400]>\n",
      "page 10\n",
      "<Response [400]>\n",
      "page 11\n",
      "<Response [400]>\n",
      "page 12\n",
      "<Response [400]>\n",
      "page 13\n",
      "<Response [400]>\n",
      "page 14\n",
      "<Response [400]>\n",
      "page 15\n",
      "<Response [400]>\n",
      "page 16\n",
      "<Response [400]>\n",
      "page 17\n",
      "<Response [400]>\n",
      "page 18\n",
      "<Response [400]>\n",
      "page 19\n",
      "<Response [400]>\n",
      "page 20\n",
      "<Response [400]>\n",
      "page 21\n"
     ]
    }
   ],
   "source": [
    "product_list =np.array([])\n",
    "i = 1\n",
    "while(i < 22):\n",
    "    payload = {}\n",
    "    headers = {\n",
    "        'user-agent': \"Mozilla/5.0\"\n",
    "    }\n",
    "    params = {\n",
    "        'page': i\n",
    "    }\n",
    "    response = requests.request(\n",
    "        \"GET\", nhasach_url, headers=headers, data=payload, params=params\n",
    "    )\n",
    "    print(response)\n",
    "    print(\"page\", i)\n",
    "    y = response.json()\n",
    "    # print(len(y[\"data\"]))\n",
    "    # for j in range(len(y[\"data\"])):\n",
    "    #     idproduct = y[\"data\"][j]['id']\n",
    "    #     product_list = np.append(product_list, [idproduct], axis=0)\n",
    "    i += 1\n",
    "# product_list = product_list.astype(int)\n",
    "# print('product_list', product_list)\n",
    "# print('len(product_list)', len(product_list))\n"
   ]
  },
  {
   "cell_type": "code",
   "execution_count": 14,
   "metadata": {},
   "outputs": [
    {
     "data": {
      "text/plain": [
       "[]"
      ]
     },
     "execution_count": 14,
     "metadata": {},
     "output_type": "execute_result"
    }
   ],
   "source": [
    "y[\"details\"]"
   ]
  },
  {
   "cell_type": "code",
   "execution_count": 5,
   "metadata": {},
   "outputs": [],
   "source": [
    "from selenium import webdriver\n",
    "from selenium.webdriver.support.ui import WebDriverWait\n",
    "from selenium.webdriver.support import expected_conditions as EC\n",
    "from selenium.webdriver.common.by import By\n",
    "from selenium.common.exceptions import TimeoutException\n",
    "from selenium.webdriver.common.desired_capabilities import DesiredCapabilities"
   ]
  },
  {
   "cell_type": "code",
   "execution_count": 6,
   "metadata": {},
   "outputs": [],
   "source": [
    "class craigslist_crawler(object):\n",
    "    def __init__(self,query,price):\n",
    "        self.price = price\n",
    "        self.query = query\n",
    "        self.url = f\"https://tiki.vn/search?q={query}&price=0%2C{price}\"\n",
    "        self.driver = webdriver.Chrome(\"E:\\KHDL\\chromedriver.exe\")\n",
    "        self.delay = 5\n",
    "    \n",
    "    def load_page(self):\n",
    "        driver = self.driver\n",
    "        driver.get(self.url)\n",
    "        all_data = driver.find_elements_by_class_name(\"product-item\")\n",
    "        for data in all_data:\n",
    "            print(data.text)\n",
    "            "
   ]
  },
  {
   "cell_type": "code",
   "execution_count": 9,
   "metadata": {},
   "outputs": [],
   "source": [
    "# query = \"iphone\"\n",
    "# price = 20000000\n",
    "# crawler = craigslist_crawler(query=query, price=price)\n",
    "# crawler.load_page()"
   ]
  },
  {
   "cell_type": "code",
   "execution_count": null,
   "metadata": {},
   "outputs": [],
   "source": [
    "def crawl_product_id():\n",
    "    product_list = []\n",
    "    i = 1\n",
    "    while (True):\n",
    "        print(\"Crawl page: \", i)\n",
    "        response = requests.get(laptop_page_url.format(i))\n",
    "        parser = BeautifulSoup(response.text, 'html.parser')\n",
    "\n",
    "        product_box = parser.findAll(class_=\"product-item\")\n",
    "\n",
    "        if (len(product_box) == 0):\n",
    "            break\n",
    "\n",
    "        for product in product_box:\n",
    "            product_list.append(product.get(\"data-id\"))\n",
    "\n",
    "        i += 1\n",
    "\n",
    "    return product_list, i\n",
    "\n",
    "def save_product_id(product_list=[]):\n",
    "    file = open(product_id_file, \"w+\")\n",
    "    str = \"\\n\".join(product_list)\n",
    "    file.write(str)\n",
    "    file.close()\n",
    "    print(\"Save file: \", product_id_file)\n",
    "\n",
    "# crawl product id\n",
    "product_list, page = crawl_product_id()\n",
    "\n",
    "print(\"No. Page: \", page)\n",
    "print(\"No. Product ID: \", len(product_list))\n",
    "\n",
    "# save product id for backup\n",
    "save_product_id(product_list)"
   ]
  },
  {
   "cell_type": "code",
   "execution_count": 11,
   "metadata": {},
   "outputs": [
    {
     "ename": "HTTPError",
     "evalue": "HTTP Error 403: Forbidden",
     "output_type": "error",
     "traceback": [
      "\u001b[1;31m---------------------------------------------------------------------------\u001b[0m",
      "\u001b[1;31mHTTPError\u001b[0m                                 Traceback (most recent call last)",
      "\u001b[1;32me:\\KHDL\\Untitled-1.ipynb Cell 9'\u001b[0m in \u001b[0;36m<module>\u001b[1;34m\u001b[0m\n\u001b[0;32m      <a href='vscode-notebook-cell:/e%3A/KHDL/Untitled-1.ipynb#ch0000008?line=0'>1</a>\u001b[0m \u001b[39mimport\u001b[39;00m \u001b[39murllib\u001b[39;00m\u001b[39m.\u001b[39;00m\u001b[39mrequest\u001b[39;00m\n\u001b[0;32m      <a href='vscode-notebook-cell:/e%3A/KHDL/Untitled-1.ipynb#ch0000008?line=1'>2</a>\u001b[0m \u001b[39mfrom\u001b[39;00m \u001b[39mbs4\u001b[39;00m \u001b[39mimport\u001b[39;00m BeautifulSoup\n\u001b[1;32m----> <a href='vscode-notebook-cell:/e%3A/KHDL/Untitled-1.ipynb#ch0000008?line=3'>4</a>\u001b[0m get \u001b[39m=\u001b[39m urllib\u001b[39m.\u001b[39;49mrequest\u001b[39m.\u001b[39;49murlopen(\u001b[39m\"\u001b[39;49m\u001b[39mhttps://www.website.com/\u001b[39;49m\u001b[39m\"\u001b[39;49m)\n\u001b[0;32m      <a href='vscode-notebook-cell:/e%3A/KHDL/Untitled-1.ipynb#ch0000008?line=4'>5</a>\u001b[0m html \u001b[39m=\u001b[39m get\u001b[39m.\u001b[39mread()\n\u001b[0;32m      <a href='vscode-notebook-cell:/e%3A/KHDL/Untitled-1.ipynb#ch0000008?line=6'>7</a>\u001b[0m soup \u001b[39m=\u001b[39m BeautifulSoup(html)\n",
      "File \u001b[1;32mc:\\Users\\Admin\\AppData\\Local\\Programs\\Python\\Python39\\lib\\urllib\\request.py:214\u001b[0m, in \u001b[0;36murlopen\u001b[1;34m(url, data, timeout, cafile, capath, cadefault, context)\u001b[0m\n\u001b[0;32m    212\u001b[0m \u001b[39melse\u001b[39;00m:\n\u001b[0;32m    213\u001b[0m     opener \u001b[39m=\u001b[39m _opener\n\u001b[1;32m--> 214\u001b[0m \u001b[39mreturn\u001b[39;00m opener\u001b[39m.\u001b[39;49mopen(url, data, timeout)\n",
      "File \u001b[1;32mc:\\Users\\Admin\\AppData\\Local\\Programs\\Python\\Python39\\lib\\urllib\\request.py:523\u001b[0m, in \u001b[0;36mOpenerDirector.open\u001b[1;34m(self, fullurl, data, timeout)\u001b[0m\n\u001b[0;32m    521\u001b[0m \u001b[39mfor\u001b[39;00m processor \u001b[39min\u001b[39;00m \u001b[39mself\u001b[39m\u001b[39m.\u001b[39mprocess_response\u001b[39m.\u001b[39mget(protocol, []):\n\u001b[0;32m    522\u001b[0m     meth \u001b[39m=\u001b[39m \u001b[39mgetattr\u001b[39m(processor, meth_name)\n\u001b[1;32m--> 523\u001b[0m     response \u001b[39m=\u001b[39m meth(req, response)\n\u001b[0;32m    525\u001b[0m \u001b[39mreturn\u001b[39;00m response\n",
      "File \u001b[1;32mc:\\Users\\Admin\\AppData\\Local\\Programs\\Python\\Python39\\lib\\urllib\\request.py:632\u001b[0m, in \u001b[0;36mHTTPErrorProcessor.http_response\u001b[1;34m(self, request, response)\u001b[0m\n\u001b[0;32m    629\u001b[0m \u001b[39m# According to RFC 2616, \"2xx\" code indicates that the client's\u001b[39;00m\n\u001b[0;32m    630\u001b[0m \u001b[39m# request was successfully received, understood, and accepted.\u001b[39;00m\n\u001b[0;32m    631\u001b[0m \u001b[39mif\u001b[39;00m \u001b[39mnot\u001b[39;00m (\u001b[39m200\u001b[39m \u001b[39m<\u001b[39m\u001b[39m=\u001b[39m code \u001b[39m<\u001b[39m \u001b[39m300\u001b[39m):\n\u001b[1;32m--> 632\u001b[0m     response \u001b[39m=\u001b[39m \u001b[39mself\u001b[39;49m\u001b[39m.\u001b[39;49mparent\u001b[39m.\u001b[39;49merror(\n\u001b[0;32m    633\u001b[0m         \u001b[39m'\u001b[39;49m\u001b[39mhttp\u001b[39;49m\u001b[39m'\u001b[39;49m, request, response, code, msg, hdrs)\n\u001b[0;32m    635\u001b[0m \u001b[39mreturn\u001b[39;00m response\n",
      "File \u001b[1;32mc:\\Users\\Admin\\AppData\\Local\\Programs\\Python\\Python39\\lib\\urllib\\request.py:561\u001b[0m, in \u001b[0;36mOpenerDirector.error\u001b[1;34m(self, proto, *args)\u001b[0m\n\u001b[0;32m    559\u001b[0m \u001b[39mif\u001b[39;00m http_err:\n\u001b[0;32m    560\u001b[0m     args \u001b[39m=\u001b[39m (\u001b[39mdict\u001b[39m, \u001b[39m'\u001b[39m\u001b[39mdefault\u001b[39m\u001b[39m'\u001b[39m, \u001b[39m'\u001b[39m\u001b[39mhttp_error_default\u001b[39m\u001b[39m'\u001b[39m) \u001b[39m+\u001b[39m orig_args\n\u001b[1;32m--> 561\u001b[0m     \u001b[39mreturn\u001b[39;00m \u001b[39mself\u001b[39;49m\u001b[39m.\u001b[39;49m_call_chain(\u001b[39m*\u001b[39;49margs)\n",
      "File \u001b[1;32mc:\\Users\\Admin\\AppData\\Local\\Programs\\Python\\Python39\\lib\\urllib\\request.py:494\u001b[0m, in \u001b[0;36mOpenerDirector._call_chain\u001b[1;34m(self, chain, kind, meth_name, *args)\u001b[0m\n\u001b[0;32m    492\u001b[0m \u001b[39mfor\u001b[39;00m handler \u001b[39min\u001b[39;00m handlers:\n\u001b[0;32m    493\u001b[0m     func \u001b[39m=\u001b[39m \u001b[39mgetattr\u001b[39m(handler, meth_name)\n\u001b[1;32m--> 494\u001b[0m     result \u001b[39m=\u001b[39m func(\u001b[39m*\u001b[39;49margs)\n\u001b[0;32m    495\u001b[0m     \u001b[39mif\u001b[39;00m result \u001b[39mis\u001b[39;00m \u001b[39mnot\u001b[39;00m \u001b[39mNone\u001b[39;00m:\n\u001b[0;32m    496\u001b[0m         \u001b[39mreturn\u001b[39;00m result\n",
      "File \u001b[1;32mc:\\Users\\Admin\\AppData\\Local\\Programs\\Python\\Python39\\lib\\urllib\\request.py:641\u001b[0m, in \u001b[0;36mHTTPDefaultErrorHandler.http_error_default\u001b[1;34m(self, req, fp, code, msg, hdrs)\u001b[0m\n\u001b[0;32m    640\u001b[0m \u001b[39mdef\u001b[39;00m \u001b[39mhttp_error_default\u001b[39m(\u001b[39mself\u001b[39m, req, fp, code, msg, hdrs):\n\u001b[1;32m--> 641\u001b[0m     \u001b[39mraise\u001b[39;00m HTTPError(req\u001b[39m.\u001b[39mfull_url, code, msg, hdrs, fp)\n",
      "\u001b[1;31mHTTPError\u001b[0m: HTTP Error 403: Forbidden"
     ]
    }
   ],
   "source": [
    "import urllib.request\n",
    "from bs4 import BeautifulSoup\n",
    "\n",
    "get = urllib.request.urlopen(\"https://www.website.com/\")\n",
    "html = get.read()\n",
    "\n",
    "soup = BeautifulSoup(html)\n",
    "\n",
    "print(soup.encode(\"utf-8\"))"
   ]
  }
 ],
 "metadata": {
  "kernelspec": {
   "display_name": "Python 3.9.7 64-bit",
   "language": "python",
   "name": "python3"
  },
  "language_info": {
   "codemirror_mode": {
    "name": "ipython",
    "version": 3
   },
   "file_extension": ".py",
   "mimetype": "text/x-python",
   "name": "python",
   "nbconvert_exporter": "python",
   "pygments_lexer": "ipython3",
   "version": "3.9.7"
  },
  "orig_nbformat": 4,
  "vscode": {
   "interpreter": {
    "hash": "0d591c6e422414675974e227c13f5382000c440fedd3c5006ef2be5d887f0ba7"
   }
  }
 },
 "nbformat": 4,
 "nbformat_minor": 2
}
