{
 "cells": [
  {
   "cell_type": "markdown",
   "metadata": {},
   "source": [
    "# TIỂU LUẬN CUỐI KÌ\n",
    "# Môn học: KHOA HỌC DỮ LIỆU\n",
    "## Tên đề tài: Dự đoán số lượng sản phẩm đã bán tại tiki.vn"
   ]
  },
  {
   "cell_type": "markdown",
   "metadata": {},
   "source": [
    "## Nhóm 14: Nguyễn Thanh Khải"
   ]
  },
  {
   "cell_type": "code",
   "execution_count": 1,
   "metadata": {},
   "outputs": [],
   "source": [
    "import pandas as pd\n",
    "import seaborn as sns\n",
    "import numpy as np\n",
    "from sklearn.preprocessing import StandardScaler\n",
    "from sklearn.linear_model import LogisticRegression\n",
    "from sklearn.pipeline import make_pipeline\n",
    "from sklearn.datasets import load_iris\n",
    "from sklearn.model_selection import train_test_split\n",
    "from sklearn.metrics import accuracy_score\n",
    "from sklearn.datasets import make_regression\n",
    "from sklearn.linear_model import LinearRegression\n",
    "from sklearn.model_selection import cross_validate\n",
    "from sklearn.datasets import fetch_california_housing\n",
    "from sklearn.ensemble import RandomForestRegressor\n",
    "from sklearn.model_selection import RandomizedSearchCV\n",
    "from scipy.stats import randint\n",
    "import matplotlib.pyplot as plt\n",
    "import plotly \n",
    "import plotly.express as px\n",
    "import plotly.graph_objs as go\n",
    "import plotly.offline as py\n",
    "from plotly.offline import iplot\n",
    "from plotly.subplots import make_subplots\n",
    "import plotly.figure_factory as ff\n",
    "import plotly.io as pio\n",
    "pio.renderers.default = \"notebook_connected\"\n",
    "from sklearn.metrics import confusion_matrix\n"
   ]
  },
  {
   "cell_type": "code",
   "execution_count": 2,
   "metadata": {},
   "outputs": [
    {
     "data": {
      "text/html": [
       "<div>\n",
       "<style scoped>\n",
       "    .dataframe tbody tr th:only-of-type {\n",
       "        vertical-align: middle;\n",
       "    }\n",
       "\n",
       "    .dataframe tbody tr th {\n",
       "        vertical-align: top;\n",
       "    }\n",
       "\n",
       "    .dataframe thead th {\n",
       "        text-align: right;\n",
       "    }\n",
       "</style>\n",
       "<table border=\"1\" class=\"dataframe\">\n",
       "  <thead>\n",
       "    <tr style=\"text-align: right;\">\n",
       "      <th></th>\n",
       "      <th>Unnamed: 0</th>\n",
       "      <th>id</th>\n",
       "      <th>name</th>\n",
       "      <th>type</th>\n",
       "      <th>price</th>\n",
       "      <th>original_price</th>\n",
       "      <th>discount</th>\n",
       "      <th>discount_rate</th>\n",
       "      <th>rating_average</th>\n",
       "      <th>review_count</th>\n",
       "      <th>productset_group_name</th>\n",
       "      <th>day_ago_created</th>\n",
       "      <th>all_time_quantity_sold</th>\n",
       "    </tr>\n",
       "  </thead>\n",
       "  <tbody>\n",
       "    <tr>\n",
       "      <th>0</th>\n",
       "      <td>0</td>\n",
       "      <td>148803925</td>\n",
       "      <td>Giày chạy bộ nam New Balance Classic - ML574</td>\n",
       "      <td>configurable</td>\n",
       "      <td>1537000</td>\n",
       "      <td>2195000</td>\n",
       "      <td>658000</td>\n",
       "      <td>30</td>\n",
       "      <td>5.0</td>\n",
       "      <td>9</td>\n",
       "      <td>Thể Thao - Dã Ngoại/Giày thể thao nam/Giày chạ...</td>\n",
       "      <td>185.0</td>\n",
       "      <td>15.0</td>\n",
       "    </tr>\n",
       "    <tr>\n",
       "      <th>1</th>\n",
       "      <td>1</td>\n",
       "      <td>131347928</td>\n",
       "      <td>Giày Thể Thao Nam Biti’s Hunter X Z MIDNIGHT B...</td>\n",
       "      <td>configurable</td>\n",
       "      <td>1207000</td>\n",
       "      <td>1207000</td>\n",
       "      <td>0</td>\n",
       "      <td>0</td>\n",
       "      <td>4.7</td>\n",
       "      <td>372</td>\n",
       "      <td>Thể Thao - Dã Ngoại/Giày thể thao nam/Giày chạ...</td>\n",
       "      <td>238.0</td>\n",
       "      <td>752.0</td>\n",
       "    </tr>\n",
       "    <tr>\n",
       "      <th>2</th>\n",
       "      <td>2</td>\n",
       "      <td>56339896</td>\n",
       "      <td>Xe máy điện VinFast Klara S</td>\n",
       "      <td>configurable</td>\n",
       "      <td>39900000</td>\n",
       "      <td>39900000</td>\n",
       "      <td>0</td>\n",
       "      <td>0</td>\n",
       "      <td>4.6</td>\n",
       "      <td>513</td>\n",
       "      <td>Ô Tô - Xe Máy - Xe Đạp/Xe điện/Xe máy điện</td>\n",
       "      <td>734.0</td>\n",
       "      <td>1175.0</td>\n",
       "    </tr>\n",
       "    <tr>\n",
       "      <th>3</th>\n",
       "      <td>3</td>\n",
       "      <td>118281790</td>\n",
       "      <td>Giày Thể Thao Nam Biti’s Hunter X Z Collection...</td>\n",
       "      <td>configurable</td>\n",
       "      <td>1086000</td>\n",
       "      <td>1207000</td>\n",
       "      <td>121000</td>\n",
       "      <td>10</td>\n",
       "      <td>4.6</td>\n",
       "      <td>38</td>\n",
       "      <td>Thể Thao - Dã Ngoại/Giày thể thao nam/Giày chạ...</td>\n",
       "      <td>301.0</td>\n",
       "      <td>71.0</td>\n",
       "    </tr>\n",
       "    <tr>\n",
       "      <th>4</th>\n",
       "      <td>4</td>\n",
       "      <td>37468142</td>\n",
       "      <td>Giày thể thao nam IKEN S&amp;B - Xanh Dương</td>\n",
       "      <td>configurable</td>\n",
       "      <td>699000</td>\n",
       "      <td>699000</td>\n",
       "      <td>0</td>\n",
       "      <td>0</td>\n",
       "      <td>1.0</td>\n",
       "      <td>1</td>\n",
       "      <td>Thể Thao - Dã Ngoại/Giày thể thao nam/Giày chạ...</td>\n",
       "      <td>965.0</td>\n",
       "      <td>10.0</td>\n",
       "    </tr>\n",
       "  </tbody>\n",
       "</table>\n",
       "</div>"
      ],
      "text/plain": [
       "   Unnamed: 0         id                                               name  \\\n",
       "0           0  148803925       Giày chạy bộ nam New Balance Classic - ML574   \n",
       "1           1  131347928  Giày Thể Thao Nam Biti’s Hunter X Z MIDNIGHT B...   \n",
       "2           2   56339896                       Xe máy điện VinFast Klara S    \n",
       "3           3  118281790  Giày Thể Thao Nam Biti’s Hunter X Z Collection...   \n",
       "4           4   37468142           Giày thể thao nam IKEN S&B - Xanh Dương    \n",
       "\n",
       "           type     price  original_price  discount  discount_rate  \\\n",
       "0  configurable   1537000         2195000    658000             30   \n",
       "1  configurable   1207000         1207000         0              0   \n",
       "2  configurable  39900000        39900000         0              0   \n",
       "3  configurable   1086000         1207000    121000             10   \n",
       "4  configurable    699000          699000         0              0   \n",
       "\n",
       "   rating_average  review_count  \\\n",
       "0             5.0             9   \n",
       "1             4.7           372   \n",
       "2             4.6           513   \n",
       "3             4.6            38   \n",
       "4             1.0             1   \n",
       "\n",
       "                               productset_group_name  day_ago_created  \\\n",
       "0  Thể Thao - Dã Ngoại/Giày thể thao nam/Giày chạ...            185.0   \n",
       "1  Thể Thao - Dã Ngoại/Giày thể thao nam/Giày chạ...            238.0   \n",
       "2         Ô Tô - Xe Máy - Xe Đạp/Xe điện/Xe máy điện            734.0   \n",
       "3  Thể Thao - Dã Ngoại/Giày thể thao nam/Giày chạ...            301.0   \n",
       "4  Thể Thao - Dã Ngoại/Giày thể thao nam/Giày chạ...            965.0   \n",
       "\n",
       "   all_time_quantity_sold  \n",
       "0                    15.0  \n",
       "1                   752.0  \n",
       "2                  1175.0  \n",
       "3                    71.0  \n",
       "4                    10.0  "
      ]
     },
     "execution_count": 2,
     "metadata": {},
     "output_type": "execute_result"
    }
   ],
   "source": [
    "df = pd.read_csv('E:\\KHDL\\data\\output1.csv')\n",
    "df.head()"
   ]
  },
  {
   "cell_type": "code",
   "execution_count": 3,
   "metadata": {},
   "outputs": [
    {
     "name": "stdout",
     "output_type": "stream",
     "text": [
      "<class 'pandas.core.frame.DataFrame'>\n",
      "RangeIndex: 1000 entries, 0 to 999\n",
      "Data columns (total 13 columns):\n",
      " #   Column                  Non-Null Count  Dtype  \n",
      "---  ------                  --------------  -----  \n",
      " 0   Unnamed: 0              1000 non-null   int64  \n",
      " 1   id                      1000 non-null   int64  \n",
      " 2   name                    1000 non-null   object \n",
      " 3   type                    1000 non-null   object \n",
      " 4   price                   1000 non-null   int64  \n",
      " 5   original_price          1000 non-null   int64  \n",
      " 6   discount                1000 non-null   int64  \n",
      " 7   discount_rate           1000 non-null   int64  \n",
      " 8   rating_average          1000 non-null   float64\n",
      " 9   review_count            1000 non-null   int64  \n",
      " 10  productset_group_name   1000 non-null   object \n",
      " 11  day_ago_created         999 non-null    float64\n",
      " 12  all_time_quantity_sold  245 non-null    float64\n",
      "dtypes: float64(3), int64(7), object(3)\n",
      "memory usage: 101.7+ KB\n"
     ]
    }
   ],
   "source": [
    "df.info()"
   ]
  },
  {
   "cell_type": "markdown",
   "metadata": {},
   "source": [
    "### Lọc ra những sản phẩm đã được bán hơn 100 lần"
   ]
  },
  {
   "cell_type": "code",
   "execution_count": 4,
   "metadata": {},
   "outputs": [
    {
     "data": {
      "text/html": [
       "<div>\n",
       "<style scoped>\n",
       "    .dataframe tbody tr th:only-of-type {\n",
       "        vertical-align: middle;\n",
       "    }\n",
       "\n",
       "    .dataframe tbody tr th {\n",
       "        vertical-align: top;\n",
       "    }\n",
       "\n",
       "    .dataframe thead th {\n",
       "        text-align: right;\n",
       "    }\n",
       "</style>\n",
       "<table border=\"1\" class=\"dataframe\">\n",
       "  <thead>\n",
       "    <tr style=\"text-align: right;\">\n",
       "      <th></th>\n",
       "      <th>Unnamed: 0</th>\n",
       "      <th>id</th>\n",
       "      <th>name</th>\n",
       "      <th>type</th>\n",
       "      <th>price</th>\n",
       "      <th>original_price</th>\n",
       "      <th>discount</th>\n",
       "      <th>discount_rate</th>\n",
       "      <th>rating_average</th>\n",
       "      <th>review_count</th>\n",
       "      <th>productset_group_name</th>\n",
       "      <th>day_ago_created</th>\n",
       "      <th>all_time_quantity_sold</th>\n",
       "    </tr>\n",
       "  </thead>\n",
       "  <tbody>\n",
       "    <tr>\n",
       "      <th>1</th>\n",
       "      <td>1</td>\n",
       "      <td>131347928</td>\n",
       "      <td>Giày Thể Thao Nam Biti’s Hunter X Z MIDNIGHT B...</td>\n",
       "      <td>configurable</td>\n",
       "      <td>1207000</td>\n",
       "      <td>1207000</td>\n",
       "      <td>0</td>\n",
       "      <td>0</td>\n",
       "      <td>4.7</td>\n",
       "      <td>372</td>\n",
       "      <td>Thể Thao - Dã Ngoại/Giày thể thao nam/Giày chạ...</td>\n",
       "      <td>238.0</td>\n",
       "      <td>752.0</td>\n",
       "    </tr>\n",
       "    <tr>\n",
       "      <th>2</th>\n",
       "      <td>2</td>\n",
       "      <td>56339896</td>\n",
       "      <td>Xe máy điện VinFast Klara S</td>\n",
       "      <td>configurable</td>\n",
       "      <td>39900000</td>\n",
       "      <td>39900000</td>\n",
       "      <td>0</td>\n",
       "      <td>0</td>\n",
       "      <td>4.6</td>\n",
       "      <td>513</td>\n",
       "      <td>Ô Tô - Xe Máy - Xe Đạp/Xe điện/Xe máy điện</td>\n",
       "      <td>734.0</td>\n",
       "      <td>1175.0</td>\n",
       "    </tr>\n",
       "    <tr>\n",
       "      <th>5</th>\n",
       "      <td>5</td>\n",
       "      <td>5204861</td>\n",
       "      <td>Giày Thể Thao Nam Biti’s Hunter X – 2K18 – DSU...</td>\n",
       "      <td>configurable</td>\n",
       "      <td>885000</td>\n",
       "      <td>932000</td>\n",
       "      <td>47000</td>\n",
       "      <td>5</td>\n",
       "      <td>5.0</td>\n",
       "      <td>64</td>\n",
       "      <td>Thể Thao - Dã Ngoại/Giày thể thao nam/Giày chạ...</td>\n",
       "      <td>1353.0</td>\n",
       "      <td>134.0</td>\n",
       "    </tr>\n",
       "    <tr>\n",
       "      <th>30</th>\n",
       "      <td>30</td>\n",
       "      <td>42688299</td>\n",
       "      <td>Khô bò giòn vừa  S'Shop lon nhôm  250g</td>\n",
       "      <td>simple</td>\n",
       "      <td>130000</td>\n",
       "      <td>130000</td>\n",
       "      <td>0</td>\n",
       "      <td>0</td>\n",
       "      <td>4.2</td>\n",
       "      <td>19</td>\n",
       "      <td>Bách Hóa Online/Thực phẩm/Thực phẩm khô/Thực p...</td>\n",
       "      <td>925.0</td>\n",
       "      <td>174.0</td>\n",
       "    </tr>\n",
       "    <tr>\n",
       "      <th>35</th>\n",
       "      <td>35</td>\n",
       "      <td>103773704</td>\n",
       "      <td>Giày Thể Thao Nam Biti's Hunter X 2k19 - DSMH0...</td>\n",
       "      <td>configurable</td>\n",
       "      <td>885000</td>\n",
       "      <td>932000</td>\n",
       "      <td>47000</td>\n",
       "      <td>5</td>\n",
       "      <td>4.7</td>\n",
       "      <td>65</td>\n",
       "      <td>Thể Thao - Dã Ngoại/Giày thể thao nam/Giày chạ...</td>\n",
       "      <td>374.0</td>\n",
       "      <td>126.0</td>\n",
       "    </tr>\n",
       "    <tr>\n",
       "      <th>43</th>\n",
       "      <td>43</td>\n",
       "      <td>44888793</td>\n",
       "      <td>Khô gà lá chanh S'Shop 1kg siêu sạch</td>\n",
       "      <td>simple</td>\n",
       "      <td>250000</td>\n",
       "      <td>250000</td>\n",
       "      <td>0</td>\n",
       "      <td>0</td>\n",
       "      <td>4.1</td>\n",
       "      <td>19</td>\n",
       "      <td>Bách Hóa Online/Thực phẩm/Thực phẩm khô/Thực p...</td>\n",
       "      <td>908.0</td>\n",
       "      <td>130.0</td>\n",
       "    </tr>\n",
       "    <tr>\n",
       "      <th>56</th>\n",
       "      <td>56</td>\n",
       "      <td>8211858</td>\n",
       "      <td>Sủi Da S-506 - Kềm Nghĩa</td>\n",
       "      <td>simple</td>\n",
       "      <td>65000</td>\n",
       "      <td>65000</td>\n",
       "      <td>0</td>\n",
       "      <td>0</td>\n",
       "      <td>4.8</td>\n",
       "      <td>44</td>\n",
       "      <td>Làm Đẹp - Sức Khỏe/Dụng cụ làm đẹp/Chăm sóc mó...</td>\n",
       "      <td>1274.0</td>\n",
       "      <td>308.0</td>\n",
       "    </tr>\n",
       "    <tr>\n",
       "      <th>61</th>\n",
       "      <td>61</td>\n",
       "      <td>65461111</td>\n",
       "      <td>Giày Thể Thao Nam Biti's Hunter X 2k20 DSMH03400</td>\n",
       "      <td>configurable</td>\n",
       "      <td>909000</td>\n",
       "      <td>1010000</td>\n",
       "      <td>101000</td>\n",
       "      <td>10</td>\n",
       "      <td>4.8</td>\n",
       "      <td>173</td>\n",
       "      <td>Thể Thao - Dã Ngoại/Giày thể thao nam/Giày chạ...</td>\n",
       "      <td>650.0</td>\n",
       "      <td>390.0</td>\n",
       "    </tr>\n",
       "    <tr>\n",
       "      <th>72</th>\n",
       "      <td>72</td>\n",
       "      <td>97066811</td>\n",
       "      <td>Giày Thể Thao Cao Cấp Nam Biti's Hunter X Army...</td>\n",
       "      <td>configurable</td>\n",
       "      <td>960000</td>\n",
       "      <td>1010000</td>\n",
       "      <td>50000</td>\n",
       "      <td>5</td>\n",
       "      <td>4.8</td>\n",
       "      <td>186</td>\n",
       "      <td>Thể Thao - Dã Ngoại/Giày thể thao nam/Giày chạ...</td>\n",
       "      <td>392.0</td>\n",
       "      <td>442.0</td>\n",
       "    </tr>\n",
       "    <tr>\n",
       "      <th>76</th>\n",
       "      <td>76</td>\n",
       "      <td>1416813</td>\n",
       "      <td>Giày Thượng Đình KK14-1 White</td>\n",
       "      <td>configurable</td>\n",
       "      <td>102900</td>\n",
       "      <td>102900</td>\n",
       "      <td>0</td>\n",
       "      <td>0</td>\n",
       "      <td>4.5</td>\n",
       "      <td>58</td>\n",
       "      <td>Thể Thao - Dã Ngoại/Giày thể thao nam/Giày chạ...</td>\n",
       "      <td>1597.0</td>\n",
       "      <td>203.0</td>\n",
       "    </tr>\n",
       "    <tr>\n",
       "      <th>80</th>\n",
       "      <td>80</td>\n",
       "      <td>59080455</td>\n",
       "      <td>Giày Thể Thao Nam Biti's Hunter Street Mid DSM...</td>\n",
       "      <td>configurable</td>\n",
       "      <td>723000</td>\n",
       "      <td>761000</td>\n",
       "      <td>38000</td>\n",
       "      <td>5</td>\n",
       "      <td>4.8</td>\n",
       "      <td>56</td>\n",
       "      <td>Thể Thao - Dã Ngoại/Giày thể thao nam/Giày chạ...</td>\n",
       "      <td>676.0</td>\n",
       "      <td>129.0</td>\n",
       "    </tr>\n",
       "    <tr>\n",
       "      <th>89</th>\n",
       "      <td>89</td>\n",
       "      <td>541153</td>\n",
       "      <td>Ổ Cứng SSD Silicon Power S55 120GB (TLC) Up To...</td>\n",
       "      <td>simple</td>\n",
       "      <td>655000</td>\n",
       "      <td>700000</td>\n",
       "      <td>45000</td>\n",
       "      <td>6</td>\n",
       "      <td>4.5</td>\n",
       "      <td>11</td>\n",
       "      <td>Laptop - Máy Vi Tính - Linh kiện/Thiết Bị Lưu ...</td>\n",
       "      <td>737621.0</td>\n",
       "      <td>161.0</td>\n",
       "    </tr>\n",
       "    <tr>\n",
       "      <th>90</th>\n",
       "      <td>90</td>\n",
       "      <td>2155943</td>\n",
       "      <td>Rubik Qiheng S Megaminx Stickerless</td>\n",
       "      <td>simple</td>\n",
       "      <td>160000</td>\n",
       "      <td>160000</td>\n",
       "      <td>0</td>\n",
       "      <td>0</td>\n",
       "      <td>4.5</td>\n",
       "      <td>32</td>\n",
       "      <td>Đồ Chơi - Mẹ &amp; Bé/Đồ chơi/Trò chơi trí tuệ</td>\n",
       "      <td>1477.0</td>\n",
       "      <td>246.0</td>\n",
       "    </tr>\n",
       "    <tr>\n",
       "      <th>248</th>\n",
       "      <td>248</td>\n",
       "      <td>5136705</td>\n",
       "      <td>Dầu gội Fixderma Bioteez-S Shampoo (75g)</td>\n",
       "      <td>simple</td>\n",
       "      <td>306000</td>\n",
       "      <td>306000</td>\n",
       "      <td>0</td>\n",
       "      <td>0</td>\n",
       "      <td>4.7</td>\n",
       "      <td>10</td>\n",
       "      <td>Làm Đẹp - Sức Khỏe/Chăm sóc tóc và da đầu/Dầu ...</td>\n",
       "      <td>1356.0</td>\n",
       "      <td>123.0</td>\n",
       "    </tr>\n",
       "    <tr>\n",
       "      <th>258</th>\n",
       "      <td>258</td>\n",
       "      <td>14953136</td>\n",
       "      <td>Thú Bông Doraemon Tagger (Size S)</td>\n",
       "      <td>simple</td>\n",
       "      <td>129000</td>\n",
       "      <td>143000</td>\n",
       "      <td>14000</td>\n",
       "      <td>10</td>\n",
       "      <td>4.7</td>\n",
       "      <td>51</td>\n",
       "      <td>Nhà Sách Tiki/Quà lưu niệm/Thú Nhồi Bông</td>\n",
       "      <td>1138.0</td>\n",
       "      <td>357.0</td>\n",
       "    </tr>\n",
       "    <tr>\n",
       "      <th>371</th>\n",
       "      <td>371</td>\n",
       "      <td>10401341</td>\n",
       "      <td>Viết Bi Pilot BP-S-F</td>\n",
       "      <td>configurable</td>\n",
       "      <td>27400</td>\n",
       "      <td>41000</td>\n",
       "      <td>13600</td>\n",
       "      <td>33</td>\n",
       "      <td>1.0</td>\n",
       "      <td>1</td>\n",
       "      <td>Nhà Sách Tiki/Văn phòng phẩm/Bút - Viết các lo...</td>\n",
       "      <td>1229.0</td>\n",
       "      <td>113.0</td>\n",
       "    </tr>\n",
       "  </tbody>\n",
       "</table>\n",
       "</div>"
      ],
      "text/plain": [
       "     Unnamed: 0         id                                               name  \\\n",
       "1             1  131347928  Giày Thể Thao Nam Biti’s Hunter X Z MIDNIGHT B...   \n",
       "2             2   56339896                       Xe máy điện VinFast Klara S    \n",
       "5             5    5204861  Giày Thể Thao Nam Biti’s Hunter X – 2K18 – DSU...   \n",
       "30           30   42688299            Khô bò giòn vừa  S'Shop lon nhôm  250g    \n",
       "35           35  103773704  Giày Thể Thao Nam Biti's Hunter X 2k19 - DSMH0...   \n",
       "43           43   44888793               Khô gà lá chanh S'Shop 1kg siêu sạch   \n",
       "56           56    8211858                           Sủi Da S-506 - Kềm Nghĩa   \n",
       "61           61   65461111   Giày Thể Thao Nam Biti's Hunter X 2k20 DSMH03400   \n",
       "72           72   97066811  Giày Thể Thao Cao Cấp Nam Biti's Hunter X Army...   \n",
       "76           76    1416813                      Giày Thượng Đình KK14-1 White   \n",
       "80           80   59080455  Giày Thể Thao Nam Biti's Hunter Street Mid DSM...   \n",
       "89           89     541153  Ổ Cứng SSD Silicon Power S55 120GB (TLC) Up To...   \n",
       "90           90    2155943                Rubik Qiheng S Megaminx Stickerless   \n",
       "248         248    5136705           Dầu gội Fixderma Bioteez-S Shampoo (75g)   \n",
       "258         258   14953136                  Thú Bông Doraemon Tagger (Size S)   \n",
       "371         371   10401341                               Viết Bi Pilot BP-S-F   \n",
       "\n",
       "             type     price  original_price  discount  discount_rate  \\\n",
       "1    configurable   1207000         1207000         0              0   \n",
       "2    configurable  39900000        39900000         0              0   \n",
       "5    configurable    885000          932000     47000              5   \n",
       "30         simple    130000          130000         0              0   \n",
       "35   configurable    885000          932000     47000              5   \n",
       "43         simple    250000          250000         0              0   \n",
       "56         simple     65000           65000         0              0   \n",
       "61   configurable    909000         1010000    101000             10   \n",
       "72   configurable    960000         1010000     50000              5   \n",
       "76   configurable    102900          102900         0              0   \n",
       "80   configurable    723000          761000     38000              5   \n",
       "89         simple    655000          700000     45000              6   \n",
       "90         simple    160000          160000         0              0   \n",
       "248        simple    306000          306000         0              0   \n",
       "258        simple    129000          143000     14000             10   \n",
       "371  configurable     27400           41000     13600             33   \n",
       "\n",
       "     rating_average  review_count  \\\n",
       "1               4.7           372   \n",
       "2               4.6           513   \n",
       "5               5.0            64   \n",
       "30              4.2            19   \n",
       "35              4.7            65   \n",
       "43              4.1            19   \n",
       "56              4.8            44   \n",
       "61              4.8           173   \n",
       "72              4.8           186   \n",
       "76              4.5            58   \n",
       "80              4.8            56   \n",
       "89              4.5            11   \n",
       "90              4.5            32   \n",
       "248             4.7            10   \n",
       "258             4.7            51   \n",
       "371             1.0             1   \n",
       "\n",
       "                                 productset_group_name  day_ago_created  \\\n",
       "1    Thể Thao - Dã Ngoại/Giày thể thao nam/Giày chạ...            238.0   \n",
       "2           Ô Tô - Xe Máy - Xe Đạp/Xe điện/Xe máy điện            734.0   \n",
       "5    Thể Thao - Dã Ngoại/Giày thể thao nam/Giày chạ...           1353.0   \n",
       "30   Bách Hóa Online/Thực phẩm/Thực phẩm khô/Thực p...            925.0   \n",
       "35   Thể Thao - Dã Ngoại/Giày thể thao nam/Giày chạ...            374.0   \n",
       "43   Bách Hóa Online/Thực phẩm/Thực phẩm khô/Thực p...            908.0   \n",
       "56   Làm Đẹp - Sức Khỏe/Dụng cụ làm đẹp/Chăm sóc mó...           1274.0   \n",
       "61   Thể Thao - Dã Ngoại/Giày thể thao nam/Giày chạ...            650.0   \n",
       "72   Thể Thao - Dã Ngoại/Giày thể thao nam/Giày chạ...            392.0   \n",
       "76   Thể Thao - Dã Ngoại/Giày thể thao nam/Giày chạ...           1597.0   \n",
       "80   Thể Thao - Dã Ngoại/Giày thể thao nam/Giày chạ...            676.0   \n",
       "89   Laptop - Máy Vi Tính - Linh kiện/Thiết Bị Lưu ...         737621.0   \n",
       "90          Đồ Chơi - Mẹ & Bé/Đồ chơi/Trò chơi trí tuệ           1477.0   \n",
       "248  Làm Đẹp - Sức Khỏe/Chăm sóc tóc và da đầu/Dầu ...           1356.0   \n",
       "258           Nhà Sách Tiki/Quà lưu niệm/Thú Nhồi Bông           1138.0   \n",
       "371  Nhà Sách Tiki/Văn phòng phẩm/Bút - Viết các lo...           1229.0   \n",
       "\n",
       "     all_time_quantity_sold  \n",
       "1                     752.0  \n",
       "2                    1175.0  \n",
       "5                     134.0  \n",
       "30                    174.0  \n",
       "35                    126.0  \n",
       "43                    130.0  \n",
       "56                    308.0  \n",
       "61                    390.0  \n",
       "72                    442.0  \n",
       "76                    203.0  \n",
       "80                    129.0  \n",
       "89                    161.0  \n",
       "90                    246.0  \n",
       "248                   123.0  \n",
       "258                   357.0  \n",
       "371                   113.0  "
      ]
     },
     "execution_count": 4,
     "metadata": {},
     "output_type": "execute_result"
    }
   ],
   "source": [
    "mostSold = df[df['all_time_quantity_sold']>=100]\n",
    "mostSold"
   ]
  },
  {
   "cell_type": "markdown",
   "metadata": {},
   "source": [
    "### Gán nhãn số cho cột 'productset_group_name' và lưu vào cột mới 'gr_name'"
   ]
  },
  {
   "cell_type": "code",
   "execution_count": 5,
   "metadata": {},
   "outputs": [
    {
     "data": {
      "text/plain": [
       "0      243\n",
       "1      243\n",
       "2      319\n",
       "3      243\n",
       "4      243\n",
       "      ... \n",
       "995    274\n",
       "996    254\n",
       "997     33\n",
       "998    268\n",
       "999    168\n",
       "Name: gr_name, Length: 1000, dtype: int64"
      ]
     },
     "execution_count": 5,
     "metadata": {},
     "output_type": "execute_result"
    }
   ],
   "source": [
    "lookupTable, indexed_dataSet = np.unique(df['productset_group_name'], return_inverse=True)\n",
    "df['gr_name'] = indexed_dataSet\n",
    "df['gr_name']"
   ]
  },
  {
   "cell_type": "markdown",
   "metadata": {},
   "source": [
    "### Biểu đồ biểu diễn số lượng đã bán và nhóm của sản phẩm "
   ]
  },
  {
   "cell_type": "code",
   "execution_count": 6,
   "metadata": {},
   "outputs": [
    {
     "data": {
      "text/html": [
       "        <script type=\"text/javascript\">\n",
       "        window.PlotlyConfig = {MathJaxConfig: 'local'};\n",
       "        if (window.MathJax && window.MathJax.Hub && window.MathJax.Hub.Config) {window.MathJax.Hub.Config({SVG: {font: \"STIX-Web\"}});}\n",
       "        if (typeof require !== 'undefined') {\n",
       "        require.undef(\"plotly\");\n",
       "        requirejs.config({\n",
       "            paths: {\n",
       "                'plotly': ['https://cdn.plot.ly/plotly-2.12.1.min']\n",
       "            }\n",
       "        });\n",
       "        require(['plotly'], function(Plotly) {\n",
       "            window._Plotly = Plotly;\n",
       "        });\n",
       "        }\n",
       "        </script>\n",
       "        "
      ]
     },
     "metadata": {},
     "output_type": "display_data"
    },
    {
     "data": {
      "text/html": [
       "<div>                            <div id=\"4291f1b4-88e4-400f-86be-67d9893cb129\" class=\"plotly-graph-div\" style=\"height:525px; width:100%;\"></div>            <script type=\"text/javascript\">                require([\"plotly\"], function(Plotly) {                    window.PLOTLYENV=window.PLOTLYENV || {};                                    if (document.getElementById(\"4291f1b4-88e4-400f-86be-67d9893cb129\")) {                    Plotly.newPlot(                        \"4291f1b4-88e4-400f-86be-67d9893cb129\",                        [{\"alignmentgroup\":\"True\",\"hovertemplate\":\"productset_group_name=Th\\u1ec3 Thao - D\\u00e3 Ngo\\u1ea1i/Gi\\u00e0y th\\u1ec3 thao nam/Gi\\u00e0y ch\\u1ea1y b\\u1ed9 nam<br>name=%{x}<br>all_time_quantity_sold=%{y}<extra></extra>\",\"legendgroup\":\"Th\\u1ec3 Thao - D\\u00e3 Ngo\\u1ea1i/Gi\\u00e0y th\\u1ec3 thao nam/Gi\\u00e0y ch\\u1ea1y b\\u1ed9 nam\",\"marker\":{\"color\":\"#636efa\",\"pattern\":{\"shape\":\"\"}},\"name\":\"Th\\u1ec3 Thao - D\\u00e3 Ngo\\u1ea1i/Gi\\u00e0y th\\u1ec3 thao nam/Gi\\u00e0y ch\\u1ea1y b\\u1ed9 nam\",\"offsetgroup\":\"Th\\u1ec3 Thao - D\\u00e3 Ngo\\u1ea1i/Gi\\u00e0y th\\u1ec3 thao nam/Gi\\u00e0y ch\\u1ea1y b\\u1ed9 nam\",\"orientation\":\"v\",\"showlegend\":true,\"textposition\":\"auto\",\"x\":[\"Gi\\u00e0y Th\\u1ec3 Thao Nam Biti\\u2019s Hunter X Z MIDNIGHT BLACK MID DSMH06301DEN (\\u0110en)\",\"Gi\\u00e0y Th\\u1ec3 Thao Nam Biti\\u2019s Hunter X \\u2013 2K18 \\u2013 DSUH00500DEN - Midnight Black II\",\"Gi\\u00e0y Th\\u1ec3 Thao Nam Biti's Hunter X 2k19 - DSMH02200DEN - \\u0110en\",\"Gi\\u00e0y Th\\u1ec3 Thao Nam Biti's Hunter X 2k20 DSMH03400\",\"Gi\\u00e0y Th\\u1ec3 Thao Cao C\\u1ea5p Nam Biti's Hunter X Army Green DSMH05100REU (R\\u00eau)\",\"Gi\\u00e0y Th\\u01b0\\u1ee3ng \\u0110\\u00ecnh KK14-1 White\",\"Gi\\u00e0y Th\\u1ec3 Thao Nam Biti's Hunter Street Mid DSMH03600\"],\"xaxis\":\"x\",\"y\":[752.0,134.0,126.0,390.0,442.0,203.0,129.0],\"yaxis\":\"y\",\"type\":\"bar\"},{\"alignmentgroup\":\"True\",\"hovertemplate\":\"productset_group_name=\\u00d4 T\\u00f4 - Xe M\\u00e1y - Xe \\u0110\\u1ea1p/Xe \\u0111i\\u1ec7n/Xe m\\u00e1y \\u0111i\\u1ec7n<br>name=%{x}<br>all_time_quantity_sold=%{y}<extra></extra>\",\"legendgroup\":\"\\u00d4 T\\u00f4 - Xe M\\u00e1y - Xe \\u0110\\u1ea1p/Xe \\u0111i\\u1ec7n/Xe m\\u00e1y \\u0111i\\u1ec7n\",\"marker\":{\"color\":\"#EF553B\",\"pattern\":{\"shape\":\"\"}},\"name\":\"\\u00d4 T\\u00f4 - Xe M\\u00e1y - Xe \\u0110\\u1ea1p/Xe \\u0111i\\u1ec7n/Xe m\\u00e1y \\u0111i\\u1ec7n\",\"offsetgroup\":\"\\u00d4 T\\u00f4 - Xe M\\u00e1y - Xe \\u0110\\u1ea1p/Xe \\u0111i\\u1ec7n/Xe m\\u00e1y \\u0111i\\u1ec7n\",\"orientation\":\"v\",\"showlegend\":true,\"textposition\":\"auto\",\"x\":[\"Xe m\\u00e1y \\u0111i\\u1ec7n VinFast Klara S \"],\"xaxis\":\"x\",\"y\":[1175.0],\"yaxis\":\"y\",\"type\":\"bar\"},{\"alignmentgroup\":\"True\",\"hovertemplate\":\"productset_group_name=B\\u00e1ch H\\u00f3a Online/Th\\u1ef1c ph\\u1ea9m/Th\\u1ef1c ph\\u1ea9m kh\\u00f4/Th\\u1ef1c ph\\u1ea9m \\u0103n li\\u1ec1n<br>name=%{x}<br>all_time_quantity_sold=%{y}<extra></extra>\",\"legendgroup\":\"B\\u00e1ch H\\u00f3a Online/Th\\u1ef1c ph\\u1ea9m/Th\\u1ef1c ph\\u1ea9m kh\\u00f4/Th\\u1ef1c ph\\u1ea9m \\u0103n li\\u1ec1n\",\"marker\":{\"color\":\"#00cc96\",\"pattern\":{\"shape\":\"\"}},\"name\":\"B\\u00e1ch H\\u00f3a Online/Th\\u1ef1c ph\\u1ea9m/Th\\u1ef1c ph\\u1ea9m kh\\u00f4/Th\\u1ef1c ph\\u1ea9m \\u0103n li\\u1ec1n\",\"offsetgroup\":\"B\\u00e1ch H\\u00f3a Online/Th\\u1ef1c ph\\u1ea9m/Th\\u1ef1c ph\\u1ea9m kh\\u00f4/Th\\u1ef1c ph\\u1ea9m \\u0103n li\\u1ec1n\",\"orientation\":\"v\",\"showlegend\":true,\"textposition\":\"auto\",\"x\":[\"Kh\\u00f4 b\\u00f2 gi\\u00f2n v\\u1eeba  S'Shop lon nh\\u00f4m  250g \",\"Kh\\u00f4 g\\u00e0 l\\u00e1 chanh S'Shop 1kg si\\u00eau s\\u1ea1ch\"],\"xaxis\":\"x\",\"y\":[174.0,130.0],\"yaxis\":\"y\",\"type\":\"bar\"},{\"alignmentgroup\":\"True\",\"hovertemplate\":\"productset_group_name=L\\u00e0m \\u0110\\u1eb9p - S\\u1ee9c Kh\\u1ecfe/D\\u1ee5ng c\\u1ee5 l\\u00e0m \\u0111\\u1eb9p/Ch\\u0103m s\\u00f3c m\\u00f3ng/D\\u1ee5ng c\\u1ee5 l\\u00e0m m\\u00f3ng<br>name=%{x}<br>all_time_quantity_sold=%{y}<extra></extra>\",\"legendgroup\":\"L\\u00e0m \\u0110\\u1eb9p - S\\u1ee9c Kh\\u1ecfe/D\\u1ee5ng c\\u1ee5 l\\u00e0m \\u0111\\u1eb9p/Ch\\u0103m s\\u00f3c m\\u00f3ng/D\\u1ee5ng c\\u1ee5 l\\u00e0m m\\u00f3ng\",\"marker\":{\"color\":\"#ab63fa\",\"pattern\":{\"shape\":\"\"}},\"name\":\"L\\u00e0m \\u0110\\u1eb9p - S\\u1ee9c Kh\\u1ecfe/D\\u1ee5ng c\\u1ee5 l\\u00e0m \\u0111\\u1eb9p/Ch\\u0103m s\\u00f3c m\\u00f3ng/D\\u1ee5ng c\\u1ee5 l\\u00e0m m\\u00f3ng\",\"offsetgroup\":\"L\\u00e0m \\u0110\\u1eb9p - S\\u1ee9c Kh\\u1ecfe/D\\u1ee5ng c\\u1ee5 l\\u00e0m \\u0111\\u1eb9p/Ch\\u0103m s\\u00f3c m\\u00f3ng/D\\u1ee5ng c\\u1ee5 l\\u00e0m m\\u00f3ng\",\"orientation\":\"v\",\"showlegend\":true,\"textposition\":\"auto\",\"x\":[\"S\\u1ee7i Da S-506 - K\\u1ec1m Ngh\\u0129a\"],\"xaxis\":\"x\",\"y\":[308.0],\"yaxis\":\"y\",\"type\":\"bar\"},{\"alignmentgroup\":\"True\",\"hovertemplate\":\"productset_group_name=Laptop - M\\u00e1y Vi T\\u00ednh - Linh ki\\u1ec7n/Thi\\u1ebft B\\u1ecb L\\u01b0u Tr\\u1eef/\\u1ed4 C\\u1ee9ng G\\u1eafn Trong/\\u1ed4 C\\u1ee9ng SSD<br>name=%{x}<br>all_time_quantity_sold=%{y}<extra></extra>\",\"legendgroup\":\"Laptop - M\\u00e1y Vi T\\u00ednh - Linh ki\\u1ec7n/Thi\\u1ebft B\\u1ecb L\\u01b0u Tr\\u1eef/\\u1ed4 C\\u1ee9ng G\\u1eafn Trong/\\u1ed4 C\\u1ee9ng SSD\",\"marker\":{\"color\":\"#FFA15A\",\"pattern\":{\"shape\":\"\"}},\"name\":\"Laptop - M\\u00e1y Vi T\\u00ednh - Linh ki\\u1ec7n/Thi\\u1ebft B\\u1ecb L\\u01b0u Tr\\u1eef/\\u1ed4 C\\u1ee9ng G\\u1eafn Trong/\\u1ed4 C\\u1ee9ng SSD\",\"offsetgroup\":\"Laptop - M\\u00e1y Vi T\\u00ednh - Linh ki\\u1ec7n/Thi\\u1ebft B\\u1ecb L\\u01b0u Tr\\u1eef/\\u1ed4 C\\u1ee9ng G\\u1eafn Trong/\\u1ed4 C\\u1ee9ng SSD\",\"orientation\":\"v\",\"showlegend\":true,\"textposition\":\"auto\",\"x\":[\"\\u1ed4 C\\u1ee9ng SSD Silicon Power S55 120GB (TLC) Up To 550MB/s / 420MB/s - H\\u00e0ng Ch\\u00ednh H\\u00e3ng\"],\"xaxis\":\"x\",\"y\":[161.0],\"yaxis\":\"y\",\"type\":\"bar\"},{\"alignmentgroup\":\"True\",\"hovertemplate\":\"productset_group_name=\\u0110\\u1ed3 Ch\\u01a1i - M\\u1eb9 & B\\u00e9/\\u0110\\u1ed3 ch\\u01a1i/Tr\\u00f2 ch\\u01a1i tr\\u00ed tu\\u1ec7<br>name=%{x}<br>all_time_quantity_sold=%{y}<extra></extra>\",\"legendgroup\":\"\\u0110\\u1ed3 Ch\\u01a1i - M\\u1eb9 & B\\u00e9/\\u0110\\u1ed3 ch\\u01a1i/Tr\\u00f2 ch\\u01a1i tr\\u00ed tu\\u1ec7\",\"marker\":{\"color\":\"#19d3f3\",\"pattern\":{\"shape\":\"\"}},\"name\":\"\\u0110\\u1ed3 Ch\\u01a1i - M\\u1eb9 & B\\u00e9/\\u0110\\u1ed3 ch\\u01a1i/Tr\\u00f2 ch\\u01a1i tr\\u00ed tu\\u1ec7\",\"offsetgroup\":\"\\u0110\\u1ed3 Ch\\u01a1i - M\\u1eb9 & B\\u00e9/\\u0110\\u1ed3 ch\\u01a1i/Tr\\u00f2 ch\\u01a1i tr\\u00ed tu\\u1ec7\",\"orientation\":\"v\",\"showlegend\":true,\"textposition\":\"auto\",\"x\":[\"Rubik Qiheng S Megaminx Stickerless\"],\"xaxis\":\"x\",\"y\":[246.0],\"yaxis\":\"y\",\"type\":\"bar\"},{\"alignmentgroup\":\"True\",\"hovertemplate\":\"productset_group_name=L\\u00e0m \\u0110\\u1eb9p - S\\u1ee9c Kh\\u1ecfe/Ch\\u0103m s\\u00f3c t\\u00f3c v\\u00e0 da \\u0111\\u1ea7u/D\\u1ea7u g\\u1ed9i, d\\u1ea7u x\\u1ea3/D\\u1ea7u G\\u1ed9i<br>name=%{x}<br>all_time_quantity_sold=%{y}<extra></extra>\",\"legendgroup\":\"L\\u00e0m \\u0110\\u1eb9p - S\\u1ee9c Kh\\u1ecfe/Ch\\u0103m s\\u00f3c t\\u00f3c v\\u00e0 da \\u0111\\u1ea7u/D\\u1ea7u g\\u1ed9i, d\\u1ea7u x\\u1ea3/D\\u1ea7u G\\u1ed9i\",\"marker\":{\"color\":\"#FF6692\",\"pattern\":{\"shape\":\"\"}},\"name\":\"L\\u00e0m \\u0110\\u1eb9p - S\\u1ee9c Kh\\u1ecfe/Ch\\u0103m s\\u00f3c t\\u00f3c v\\u00e0 da \\u0111\\u1ea7u/D\\u1ea7u g\\u1ed9i, d\\u1ea7u x\\u1ea3/D\\u1ea7u G\\u1ed9i\",\"offsetgroup\":\"L\\u00e0m \\u0110\\u1eb9p - S\\u1ee9c Kh\\u1ecfe/Ch\\u0103m s\\u00f3c t\\u00f3c v\\u00e0 da \\u0111\\u1ea7u/D\\u1ea7u g\\u1ed9i, d\\u1ea7u x\\u1ea3/D\\u1ea7u G\\u1ed9i\",\"orientation\":\"v\",\"showlegend\":true,\"textposition\":\"auto\",\"x\":[\"D\\u1ea7u g\\u1ed9i Fixderma Bioteez-S Shampoo (75g)\"],\"xaxis\":\"x\",\"y\":[123.0],\"yaxis\":\"y\",\"type\":\"bar\"},{\"alignmentgroup\":\"True\",\"hovertemplate\":\"productset_group_name=Nh\\u00e0 S\\u00e1ch Tiki/Qu\\u00e0 l\\u01b0u ni\\u1ec7m/Th\\u00fa Nh\\u1ed3i B\\u00f4ng<br>name=%{x}<br>all_time_quantity_sold=%{y}<extra></extra>\",\"legendgroup\":\"Nh\\u00e0 S\\u00e1ch Tiki/Qu\\u00e0 l\\u01b0u ni\\u1ec7m/Th\\u00fa Nh\\u1ed3i B\\u00f4ng\",\"marker\":{\"color\":\"#B6E880\",\"pattern\":{\"shape\":\"\"}},\"name\":\"Nh\\u00e0 S\\u00e1ch Tiki/Qu\\u00e0 l\\u01b0u ni\\u1ec7m/Th\\u00fa Nh\\u1ed3i B\\u00f4ng\",\"offsetgroup\":\"Nh\\u00e0 S\\u00e1ch Tiki/Qu\\u00e0 l\\u01b0u ni\\u1ec7m/Th\\u00fa Nh\\u1ed3i B\\u00f4ng\",\"orientation\":\"v\",\"showlegend\":true,\"textposition\":\"auto\",\"x\":[\"Th\\u00fa B\\u00f4ng Doraemon Tagger (Size S)\"],\"xaxis\":\"x\",\"y\":[357.0],\"yaxis\":\"y\",\"type\":\"bar\"},{\"alignmentgroup\":\"True\",\"hovertemplate\":\"productset_group_name=Nh\\u00e0 S\\u00e1ch Tiki/V\\u0103n ph\\u00f2ng ph\\u1ea9m/B\\u00fat - Vi\\u1ebft c\\u00e1c lo\\u1ea1i/B\\u00fat bi - Ru\\u1ed9t b\\u00fat bi<br>name=%{x}<br>all_time_quantity_sold=%{y}<extra></extra>\",\"legendgroup\":\"Nh\\u00e0 S\\u00e1ch Tiki/V\\u0103n ph\\u00f2ng ph\\u1ea9m/B\\u00fat - Vi\\u1ebft c\\u00e1c lo\\u1ea1i/B\\u00fat bi - Ru\\u1ed9t b\\u00fat bi\",\"marker\":{\"color\":\"#FF97FF\",\"pattern\":{\"shape\":\"\"}},\"name\":\"Nh\\u00e0 S\\u00e1ch Tiki/V\\u0103n ph\\u00f2ng ph\\u1ea9m/B\\u00fat - Vi\\u1ebft c\\u00e1c lo\\u1ea1i/B\\u00fat bi - Ru\\u1ed9t b\\u00fat bi\",\"offsetgroup\":\"Nh\\u00e0 S\\u00e1ch Tiki/V\\u0103n ph\\u00f2ng ph\\u1ea9m/B\\u00fat - Vi\\u1ebft c\\u00e1c lo\\u1ea1i/B\\u00fat bi - Ru\\u1ed9t b\\u00fat bi\",\"orientation\":\"v\",\"showlegend\":true,\"textposition\":\"auto\",\"x\":[\"Vi\\u1ebft Bi Pilot BP-S-F\"],\"xaxis\":\"x\",\"y\":[113.0],\"yaxis\":\"y\",\"type\":\"bar\"}],                        {\"template\":{\"data\":{\"histogram2dcontour\":[{\"type\":\"histogram2dcontour\",\"colorbar\":{\"outlinewidth\":0,\"ticks\":\"\"},\"colorscale\":[[0.0,\"#0d0887\"],[0.1111111111111111,\"#46039f\"],[0.2222222222222222,\"#7201a8\"],[0.3333333333333333,\"#9c179e\"],[0.4444444444444444,\"#bd3786\"],[0.5555555555555556,\"#d8576b\"],[0.6666666666666666,\"#ed7953\"],[0.7777777777777778,\"#fb9f3a\"],[0.8888888888888888,\"#fdca26\"],[1.0,\"#f0f921\"]]}],\"choropleth\":[{\"type\":\"choropleth\",\"colorbar\":{\"outlinewidth\":0,\"ticks\":\"\"}}],\"histogram2d\":[{\"type\":\"histogram2d\",\"colorbar\":{\"outlinewidth\":0,\"ticks\":\"\"},\"colorscale\":[[0.0,\"#0d0887\"],[0.1111111111111111,\"#46039f\"],[0.2222222222222222,\"#7201a8\"],[0.3333333333333333,\"#9c179e\"],[0.4444444444444444,\"#bd3786\"],[0.5555555555555556,\"#d8576b\"],[0.6666666666666666,\"#ed7953\"],[0.7777777777777778,\"#fb9f3a\"],[0.8888888888888888,\"#fdca26\"],[1.0,\"#f0f921\"]]}],\"heatmap\":[{\"type\":\"heatmap\",\"colorbar\":{\"outlinewidth\":0,\"ticks\":\"\"},\"colorscale\":[[0.0,\"#0d0887\"],[0.1111111111111111,\"#46039f\"],[0.2222222222222222,\"#7201a8\"],[0.3333333333333333,\"#9c179e\"],[0.4444444444444444,\"#bd3786\"],[0.5555555555555556,\"#d8576b\"],[0.6666666666666666,\"#ed7953\"],[0.7777777777777778,\"#fb9f3a\"],[0.8888888888888888,\"#fdca26\"],[1.0,\"#f0f921\"]]}],\"heatmapgl\":[{\"type\":\"heatmapgl\",\"colorbar\":{\"outlinewidth\":0,\"ticks\":\"\"},\"colorscale\":[[0.0,\"#0d0887\"],[0.1111111111111111,\"#46039f\"],[0.2222222222222222,\"#7201a8\"],[0.3333333333333333,\"#9c179e\"],[0.4444444444444444,\"#bd3786\"],[0.5555555555555556,\"#d8576b\"],[0.6666666666666666,\"#ed7953\"],[0.7777777777777778,\"#fb9f3a\"],[0.8888888888888888,\"#fdca26\"],[1.0,\"#f0f921\"]]}],\"contourcarpet\":[{\"type\":\"contourcarpet\",\"colorbar\":{\"outlinewidth\":0,\"ticks\":\"\"}}],\"contour\":[{\"type\":\"contour\",\"colorbar\":{\"outlinewidth\":0,\"ticks\":\"\"},\"colorscale\":[[0.0,\"#0d0887\"],[0.1111111111111111,\"#46039f\"],[0.2222222222222222,\"#7201a8\"],[0.3333333333333333,\"#9c179e\"],[0.4444444444444444,\"#bd3786\"],[0.5555555555555556,\"#d8576b\"],[0.6666666666666666,\"#ed7953\"],[0.7777777777777778,\"#fb9f3a\"],[0.8888888888888888,\"#fdca26\"],[1.0,\"#f0f921\"]]}],\"surface\":[{\"type\":\"surface\",\"colorbar\":{\"outlinewidth\":0,\"ticks\":\"\"},\"colorscale\":[[0.0,\"#0d0887\"],[0.1111111111111111,\"#46039f\"],[0.2222222222222222,\"#7201a8\"],[0.3333333333333333,\"#9c179e\"],[0.4444444444444444,\"#bd3786\"],[0.5555555555555556,\"#d8576b\"],[0.6666666666666666,\"#ed7953\"],[0.7777777777777778,\"#fb9f3a\"],[0.8888888888888888,\"#fdca26\"],[1.0,\"#f0f921\"]]}],\"mesh3d\":[{\"type\":\"mesh3d\",\"colorbar\":{\"outlinewidth\":0,\"ticks\":\"\"}}],\"scatter\":[{\"fillpattern\":{\"fillmode\":\"overlay\",\"size\":10,\"solidity\":0.2},\"type\":\"scatter\"}],\"parcoords\":[{\"type\":\"parcoords\",\"line\":{\"colorbar\":{\"outlinewidth\":0,\"ticks\":\"\"}}}],\"scatterpolargl\":[{\"type\":\"scatterpolargl\",\"marker\":{\"colorbar\":{\"outlinewidth\":0,\"ticks\":\"\"}}}],\"bar\":[{\"error_x\":{\"color\":\"#2a3f5f\"},\"error_y\":{\"color\":\"#2a3f5f\"},\"marker\":{\"line\":{\"color\":\"#E5ECF6\",\"width\":0.5},\"pattern\":{\"fillmode\":\"overlay\",\"size\":10,\"solidity\":0.2}},\"type\":\"bar\"}],\"scattergeo\":[{\"type\":\"scattergeo\",\"marker\":{\"colorbar\":{\"outlinewidth\":0,\"ticks\":\"\"}}}],\"scatterpolar\":[{\"type\":\"scatterpolar\",\"marker\":{\"colorbar\":{\"outlinewidth\":0,\"ticks\":\"\"}}}],\"histogram\":[{\"marker\":{\"pattern\":{\"fillmode\":\"overlay\",\"size\":10,\"solidity\":0.2}},\"type\":\"histogram\"}],\"scattergl\":[{\"type\":\"scattergl\",\"marker\":{\"colorbar\":{\"outlinewidth\":0,\"ticks\":\"\"}}}],\"scatter3d\":[{\"type\":\"scatter3d\",\"line\":{\"colorbar\":{\"outlinewidth\":0,\"ticks\":\"\"}},\"marker\":{\"colorbar\":{\"outlinewidth\":0,\"ticks\":\"\"}}}],\"scattermapbox\":[{\"type\":\"scattermapbox\",\"marker\":{\"colorbar\":{\"outlinewidth\":0,\"ticks\":\"\"}}}],\"scatterternary\":[{\"type\":\"scatterternary\",\"marker\":{\"colorbar\":{\"outlinewidth\":0,\"ticks\":\"\"}}}],\"scattercarpet\":[{\"type\":\"scattercarpet\",\"marker\":{\"colorbar\":{\"outlinewidth\":0,\"ticks\":\"\"}}}],\"carpet\":[{\"aaxis\":{\"endlinecolor\":\"#2a3f5f\",\"gridcolor\":\"white\",\"linecolor\":\"white\",\"minorgridcolor\":\"white\",\"startlinecolor\":\"#2a3f5f\"},\"baxis\":{\"endlinecolor\":\"#2a3f5f\",\"gridcolor\":\"white\",\"linecolor\":\"white\",\"minorgridcolor\":\"white\",\"startlinecolor\":\"#2a3f5f\"},\"type\":\"carpet\"}],\"table\":[{\"cells\":{\"fill\":{\"color\":\"#EBF0F8\"},\"line\":{\"color\":\"white\"}},\"header\":{\"fill\":{\"color\":\"#C8D4E3\"},\"line\":{\"color\":\"white\"}},\"type\":\"table\"}],\"barpolar\":[{\"marker\":{\"line\":{\"color\":\"#E5ECF6\",\"width\":0.5},\"pattern\":{\"fillmode\":\"overlay\",\"size\":10,\"solidity\":0.2}},\"type\":\"barpolar\"}],\"pie\":[{\"automargin\":true,\"type\":\"pie\"}]},\"layout\":{\"autotypenumbers\":\"strict\",\"colorway\":[\"#636efa\",\"#EF553B\",\"#00cc96\",\"#ab63fa\",\"#FFA15A\",\"#19d3f3\",\"#FF6692\",\"#B6E880\",\"#FF97FF\",\"#FECB52\"],\"font\":{\"color\":\"#2a3f5f\"},\"hovermode\":\"closest\",\"hoverlabel\":{\"align\":\"left\"},\"paper_bgcolor\":\"white\",\"plot_bgcolor\":\"#E5ECF6\",\"polar\":{\"bgcolor\":\"#E5ECF6\",\"angularaxis\":{\"gridcolor\":\"white\",\"linecolor\":\"white\",\"ticks\":\"\"},\"radialaxis\":{\"gridcolor\":\"white\",\"linecolor\":\"white\",\"ticks\":\"\"}},\"ternary\":{\"bgcolor\":\"#E5ECF6\",\"aaxis\":{\"gridcolor\":\"white\",\"linecolor\":\"white\",\"ticks\":\"\"},\"baxis\":{\"gridcolor\":\"white\",\"linecolor\":\"white\",\"ticks\":\"\"},\"caxis\":{\"gridcolor\":\"white\",\"linecolor\":\"white\",\"ticks\":\"\"}},\"coloraxis\":{\"colorbar\":{\"outlinewidth\":0,\"ticks\":\"\"}},\"colorscale\":{\"sequential\":[[0.0,\"#0d0887\"],[0.1111111111111111,\"#46039f\"],[0.2222222222222222,\"#7201a8\"],[0.3333333333333333,\"#9c179e\"],[0.4444444444444444,\"#bd3786\"],[0.5555555555555556,\"#d8576b\"],[0.6666666666666666,\"#ed7953\"],[0.7777777777777778,\"#fb9f3a\"],[0.8888888888888888,\"#fdca26\"],[1.0,\"#f0f921\"]],\"sequentialminus\":[[0.0,\"#0d0887\"],[0.1111111111111111,\"#46039f\"],[0.2222222222222222,\"#7201a8\"],[0.3333333333333333,\"#9c179e\"],[0.4444444444444444,\"#bd3786\"],[0.5555555555555556,\"#d8576b\"],[0.6666666666666666,\"#ed7953\"],[0.7777777777777778,\"#fb9f3a\"],[0.8888888888888888,\"#fdca26\"],[1.0,\"#f0f921\"]],\"diverging\":[[0,\"#8e0152\"],[0.1,\"#c51b7d\"],[0.2,\"#de77ae\"],[0.3,\"#f1b6da\"],[0.4,\"#fde0ef\"],[0.5,\"#f7f7f7\"],[0.6,\"#e6f5d0\"],[0.7,\"#b8e186\"],[0.8,\"#7fbc41\"],[0.9,\"#4d9221\"],[1,\"#276419\"]]},\"xaxis\":{\"gridcolor\":\"white\",\"linecolor\":\"white\",\"ticks\":\"\",\"title\":{\"standoff\":15},\"zerolinecolor\":\"white\",\"automargin\":true,\"zerolinewidth\":2},\"yaxis\":{\"gridcolor\":\"white\",\"linecolor\":\"white\",\"ticks\":\"\",\"title\":{\"standoff\":15},\"zerolinecolor\":\"white\",\"automargin\":true,\"zerolinewidth\":2},\"scene\":{\"xaxis\":{\"backgroundcolor\":\"#E5ECF6\",\"gridcolor\":\"white\",\"linecolor\":\"white\",\"showbackground\":true,\"ticks\":\"\",\"zerolinecolor\":\"white\",\"gridwidth\":2},\"yaxis\":{\"backgroundcolor\":\"#E5ECF6\",\"gridcolor\":\"white\",\"linecolor\":\"white\",\"showbackground\":true,\"ticks\":\"\",\"zerolinecolor\":\"white\",\"gridwidth\":2},\"zaxis\":{\"backgroundcolor\":\"#E5ECF6\",\"gridcolor\":\"white\",\"linecolor\":\"white\",\"showbackground\":true,\"ticks\":\"\",\"zerolinecolor\":\"white\",\"gridwidth\":2}},\"shapedefaults\":{\"line\":{\"color\":\"#2a3f5f\"}},\"annotationdefaults\":{\"arrowcolor\":\"#2a3f5f\",\"arrowhead\":0,\"arrowwidth\":1},\"geo\":{\"bgcolor\":\"white\",\"landcolor\":\"#E5ECF6\",\"subunitcolor\":\"white\",\"showland\":true,\"showlakes\":true,\"lakecolor\":\"white\"},\"title\":{\"x\":0.05},\"mapbox\":{\"style\":\"light\"}}},\"xaxis\":{\"anchor\":\"y\",\"domain\":[0.0,1.0],\"title\":{\"text\":\"name\"}},\"yaxis\":{\"anchor\":\"x\",\"domain\":[0.0,1.0],\"title\":{\"text\":\"all_time_quantity_sold\"}},\"legend\":{\"title\":{\"text\":\"productset_group_name\"},\"tracegroupgap\":0},\"margin\":{\"t\":60},\"barmode\":\"relative\"},                        {\"responsive\": true}                    ).then(function(){\n",
       "                            \n",
       "var gd = document.getElementById('4291f1b4-88e4-400f-86be-67d9893cb129');\n",
       "var x = new MutationObserver(function (mutations, observer) {{\n",
       "        var display = window.getComputedStyle(gd).display;\n",
       "        if (!display || display === 'none') {{\n",
       "            console.log([gd, 'removed!']);\n",
       "            Plotly.purge(gd);\n",
       "            observer.disconnect();\n",
       "        }}\n",
       "}});\n",
       "\n",
       "// Listen for the removal of the full notebook cells\n",
       "var notebookContainer = gd.closest('#notebook-container');\n",
       "if (notebookContainer) {{\n",
       "    x.observe(notebookContainer, {childList: true});\n",
       "}}\n",
       "\n",
       "// Listen for the clearing of the current output cell\n",
       "var outputEl = gd.closest('.output');\n",
       "if (outputEl) {{\n",
       "    x.observe(outputEl, {childList: true});\n",
       "}}\n",
       "\n",
       "                        })                };                });            </script>        </div>"
      ]
     },
     "metadata": {},
     "output_type": "display_data"
    }
   ],
   "source": [
    "fig = px.bar(mostSold, x='name',y='all_time_quantity_sold', color='productset_group_name')\n",
    "fig.show()"
   ]
  },
  {
   "cell_type": "markdown",
   "metadata": {},
   "source": [
    "### Biểu đồ biểu diễn điểm đánh giá và tỉ lệ discount của các sản phẩm "
   ]
  },
  {
   "cell_type": "code",
   "execution_count": 7,
   "metadata": {},
   "outputs": [
    {
     "data": {
      "text/html": [
       "<div>                            <div id=\"a03f35d9-54c8-4041-9caf-3c937303a63f\" class=\"plotly-graph-div\" style=\"height:525px; width:100%;\"></div>            <script type=\"text/javascript\">                require([\"plotly\"], function(Plotly) {                    window.PLOTLYENV=window.PLOTLYENV || {};                                    if (document.getElementById(\"a03f35d9-54c8-4041-9caf-3c937303a63f\")) {                    Plotly.newPlot(                        \"a03f35d9-54c8-4041-9caf-3c937303a63f\",                        [{\"alignmentgroup\":\"True\",\"hovertemplate\":\"name=%{x}<br>rating_average=%{y}<br>discount_rate=%{marker.color}<extra></extra>\",\"legendgroup\":\"\",\"marker\":{\"color\":[0,0,5,0,5,0,0,10,5,0,5,6,0,0,10,33],\"coloraxis\":\"coloraxis\",\"pattern\":{\"shape\":\"\"}},\"name\":\"\",\"offsetgroup\":\"\",\"orientation\":\"v\",\"showlegend\":false,\"textposition\":\"auto\",\"x\":[\"Gi\\u00e0y Th\\u1ec3 Thao Nam Biti\\u2019s Hunter X Z MIDNIGHT BLACK MID DSMH06301DEN (\\u0110en)\",\"Xe m\\u00e1y \\u0111i\\u1ec7n VinFast Klara S \",\"Gi\\u00e0y Th\\u1ec3 Thao Nam Biti\\u2019s Hunter X \\u2013 2K18 \\u2013 DSUH00500DEN - Midnight Black II\",\"Kh\\u00f4 b\\u00f2 gi\\u00f2n v\\u1eeba  S'Shop lon nh\\u00f4m  250g \",\"Gi\\u00e0y Th\\u1ec3 Thao Nam Biti's Hunter X 2k19 - DSMH02200DEN - \\u0110en\",\"Kh\\u00f4 g\\u00e0 l\\u00e1 chanh S'Shop 1kg si\\u00eau s\\u1ea1ch\",\"S\\u1ee7i Da S-506 - K\\u1ec1m Ngh\\u0129a\",\"Gi\\u00e0y Th\\u1ec3 Thao Nam Biti's Hunter X 2k20 DSMH03400\",\"Gi\\u00e0y Th\\u1ec3 Thao Cao C\\u1ea5p Nam Biti's Hunter X Army Green DSMH05100REU (R\\u00eau)\",\"Gi\\u00e0y Th\\u01b0\\u1ee3ng \\u0110\\u00ecnh KK14-1 White\",\"Gi\\u00e0y Th\\u1ec3 Thao Nam Biti's Hunter Street Mid DSMH03600\",\"\\u1ed4 C\\u1ee9ng SSD Silicon Power S55 120GB (TLC) Up To 550MB/s / 420MB/s - H\\u00e0ng Ch\\u00ednh H\\u00e3ng\",\"Rubik Qiheng S Megaminx Stickerless\",\"D\\u1ea7u g\\u1ed9i Fixderma Bioteez-S Shampoo (75g)\",\"Th\\u00fa B\\u00f4ng Doraemon Tagger (Size S)\",\"Vi\\u1ebft Bi Pilot BP-S-F\"],\"xaxis\":\"x\",\"y\":[4.7,4.6,5.0,4.2,4.7,4.1,4.8,4.8,4.8,4.5,4.8,4.5,4.5,4.7,4.7,1.0],\"yaxis\":\"y\",\"type\":\"bar\"}],                        {\"template\":{\"data\":{\"histogram2dcontour\":[{\"type\":\"histogram2dcontour\",\"colorbar\":{\"outlinewidth\":0,\"ticks\":\"\"},\"colorscale\":[[0.0,\"#0d0887\"],[0.1111111111111111,\"#46039f\"],[0.2222222222222222,\"#7201a8\"],[0.3333333333333333,\"#9c179e\"],[0.4444444444444444,\"#bd3786\"],[0.5555555555555556,\"#d8576b\"],[0.6666666666666666,\"#ed7953\"],[0.7777777777777778,\"#fb9f3a\"],[0.8888888888888888,\"#fdca26\"],[1.0,\"#f0f921\"]]}],\"choropleth\":[{\"type\":\"choropleth\",\"colorbar\":{\"outlinewidth\":0,\"ticks\":\"\"}}],\"histogram2d\":[{\"type\":\"histogram2d\",\"colorbar\":{\"outlinewidth\":0,\"ticks\":\"\"},\"colorscale\":[[0.0,\"#0d0887\"],[0.1111111111111111,\"#46039f\"],[0.2222222222222222,\"#7201a8\"],[0.3333333333333333,\"#9c179e\"],[0.4444444444444444,\"#bd3786\"],[0.5555555555555556,\"#d8576b\"],[0.6666666666666666,\"#ed7953\"],[0.7777777777777778,\"#fb9f3a\"],[0.8888888888888888,\"#fdca26\"],[1.0,\"#f0f921\"]]}],\"heatmap\":[{\"type\":\"heatmap\",\"colorbar\":{\"outlinewidth\":0,\"ticks\":\"\"},\"colorscale\":[[0.0,\"#0d0887\"],[0.1111111111111111,\"#46039f\"],[0.2222222222222222,\"#7201a8\"],[0.3333333333333333,\"#9c179e\"],[0.4444444444444444,\"#bd3786\"],[0.5555555555555556,\"#d8576b\"],[0.6666666666666666,\"#ed7953\"],[0.7777777777777778,\"#fb9f3a\"],[0.8888888888888888,\"#fdca26\"],[1.0,\"#f0f921\"]]}],\"heatmapgl\":[{\"type\":\"heatmapgl\",\"colorbar\":{\"outlinewidth\":0,\"ticks\":\"\"},\"colorscale\":[[0.0,\"#0d0887\"],[0.1111111111111111,\"#46039f\"],[0.2222222222222222,\"#7201a8\"],[0.3333333333333333,\"#9c179e\"],[0.4444444444444444,\"#bd3786\"],[0.5555555555555556,\"#d8576b\"],[0.6666666666666666,\"#ed7953\"],[0.7777777777777778,\"#fb9f3a\"],[0.8888888888888888,\"#fdca26\"],[1.0,\"#f0f921\"]]}],\"contourcarpet\":[{\"type\":\"contourcarpet\",\"colorbar\":{\"outlinewidth\":0,\"ticks\":\"\"}}],\"contour\":[{\"type\":\"contour\",\"colorbar\":{\"outlinewidth\":0,\"ticks\":\"\"},\"colorscale\":[[0.0,\"#0d0887\"],[0.1111111111111111,\"#46039f\"],[0.2222222222222222,\"#7201a8\"],[0.3333333333333333,\"#9c179e\"],[0.4444444444444444,\"#bd3786\"],[0.5555555555555556,\"#d8576b\"],[0.6666666666666666,\"#ed7953\"],[0.7777777777777778,\"#fb9f3a\"],[0.8888888888888888,\"#fdca26\"],[1.0,\"#f0f921\"]]}],\"surface\":[{\"type\":\"surface\",\"colorbar\":{\"outlinewidth\":0,\"ticks\":\"\"},\"colorscale\":[[0.0,\"#0d0887\"],[0.1111111111111111,\"#46039f\"],[0.2222222222222222,\"#7201a8\"],[0.3333333333333333,\"#9c179e\"],[0.4444444444444444,\"#bd3786\"],[0.5555555555555556,\"#d8576b\"],[0.6666666666666666,\"#ed7953\"],[0.7777777777777778,\"#fb9f3a\"],[0.8888888888888888,\"#fdca26\"],[1.0,\"#f0f921\"]]}],\"mesh3d\":[{\"type\":\"mesh3d\",\"colorbar\":{\"outlinewidth\":0,\"ticks\":\"\"}}],\"scatter\":[{\"fillpattern\":{\"fillmode\":\"overlay\",\"size\":10,\"solidity\":0.2},\"type\":\"scatter\"}],\"parcoords\":[{\"type\":\"parcoords\",\"line\":{\"colorbar\":{\"outlinewidth\":0,\"ticks\":\"\"}}}],\"scatterpolargl\":[{\"type\":\"scatterpolargl\",\"marker\":{\"colorbar\":{\"outlinewidth\":0,\"ticks\":\"\"}}}],\"bar\":[{\"error_x\":{\"color\":\"#2a3f5f\"},\"error_y\":{\"color\":\"#2a3f5f\"},\"marker\":{\"line\":{\"color\":\"#E5ECF6\",\"width\":0.5},\"pattern\":{\"fillmode\":\"overlay\",\"size\":10,\"solidity\":0.2}},\"type\":\"bar\"}],\"scattergeo\":[{\"type\":\"scattergeo\",\"marker\":{\"colorbar\":{\"outlinewidth\":0,\"ticks\":\"\"}}}],\"scatterpolar\":[{\"type\":\"scatterpolar\",\"marker\":{\"colorbar\":{\"outlinewidth\":0,\"ticks\":\"\"}}}],\"histogram\":[{\"marker\":{\"pattern\":{\"fillmode\":\"overlay\",\"size\":10,\"solidity\":0.2}},\"type\":\"histogram\"}],\"scattergl\":[{\"type\":\"scattergl\",\"marker\":{\"colorbar\":{\"outlinewidth\":0,\"ticks\":\"\"}}}],\"scatter3d\":[{\"type\":\"scatter3d\",\"line\":{\"colorbar\":{\"outlinewidth\":0,\"ticks\":\"\"}},\"marker\":{\"colorbar\":{\"outlinewidth\":0,\"ticks\":\"\"}}}],\"scattermapbox\":[{\"type\":\"scattermapbox\",\"marker\":{\"colorbar\":{\"outlinewidth\":0,\"ticks\":\"\"}}}],\"scatterternary\":[{\"type\":\"scatterternary\",\"marker\":{\"colorbar\":{\"outlinewidth\":0,\"ticks\":\"\"}}}],\"scattercarpet\":[{\"type\":\"scattercarpet\",\"marker\":{\"colorbar\":{\"outlinewidth\":0,\"ticks\":\"\"}}}],\"carpet\":[{\"aaxis\":{\"endlinecolor\":\"#2a3f5f\",\"gridcolor\":\"white\",\"linecolor\":\"white\",\"minorgridcolor\":\"white\",\"startlinecolor\":\"#2a3f5f\"},\"baxis\":{\"endlinecolor\":\"#2a3f5f\",\"gridcolor\":\"white\",\"linecolor\":\"white\",\"minorgridcolor\":\"white\",\"startlinecolor\":\"#2a3f5f\"},\"type\":\"carpet\"}],\"table\":[{\"cells\":{\"fill\":{\"color\":\"#EBF0F8\"},\"line\":{\"color\":\"white\"}},\"header\":{\"fill\":{\"color\":\"#C8D4E3\"},\"line\":{\"color\":\"white\"}},\"type\":\"table\"}],\"barpolar\":[{\"marker\":{\"line\":{\"color\":\"#E5ECF6\",\"width\":0.5},\"pattern\":{\"fillmode\":\"overlay\",\"size\":10,\"solidity\":0.2}},\"type\":\"barpolar\"}],\"pie\":[{\"automargin\":true,\"type\":\"pie\"}]},\"layout\":{\"autotypenumbers\":\"strict\",\"colorway\":[\"#636efa\",\"#EF553B\",\"#00cc96\",\"#ab63fa\",\"#FFA15A\",\"#19d3f3\",\"#FF6692\",\"#B6E880\",\"#FF97FF\",\"#FECB52\"],\"font\":{\"color\":\"#2a3f5f\"},\"hovermode\":\"closest\",\"hoverlabel\":{\"align\":\"left\"},\"paper_bgcolor\":\"white\",\"plot_bgcolor\":\"#E5ECF6\",\"polar\":{\"bgcolor\":\"#E5ECF6\",\"angularaxis\":{\"gridcolor\":\"white\",\"linecolor\":\"white\",\"ticks\":\"\"},\"radialaxis\":{\"gridcolor\":\"white\",\"linecolor\":\"white\",\"ticks\":\"\"}},\"ternary\":{\"bgcolor\":\"#E5ECF6\",\"aaxis\":{\"gridcolor\":\"white\",\"linecolor\":\"white\",\"ticks\":\"\"},\"baxis\":{\"gridcolor\":\"white\",\"linecolor\":\"white\",\"ticks\":\"\"},\"caxis\":{\"gridcolor\":\"white\",\"linecolor\":\"white\",\"ticks\":\"\"}},\"coloraxis\":{\"colorbar\":{\"outlinewidth\":0,\"ticks\":\"\"}},\"colorscale\":{\"sequential\":[[0.0,\"#0d0887\"],[0.1111111111111111,\"#46039f\"],[0.2222222222222222,\"#7201a8\"],[0.3333333333333333,\"#9c179e\"],[0.4444444444444444,\"#bd3786\"],[0.5555555555555556,\"#d8576b\"],[0.6666666666666666,\"#ed7953\"],[0.7777777777777778,\"#fb9f3a\"],[0.8888888888888888,\"#fdca26\"],[1.0,\"#f0f921\"]],\"sequentialminus\":[[0.0,\"#0d0887\"],[0.1111111111111111,\"#46039f\"],[0.2222222222222222,\"#7201a8\"],[0.3333333333333333,\"#9c179e\"],[0.4444444444444444,\"#bd3786\"],[0.5555555555555556,\"#d8576b\"],[0.6666666666666666,\"#ed7953\"],[0.7777777777777778,\"#fb9f3a\"],[0.8888888888888888,\"#fdca26\"],[1.0,\"#f0f921\"]],\"diverging\":[[0,\"#8e0152\"],[0.1,\"#c51b7d\"],[0.2,\"#de77ae\"],[0.3,\"#f1b6da\"],[0.4,\"#fde0ef\"],[0.5,\"#f7f7f7\"],[0.6,\"#e6f5d0\"],[0.7,\"#b8e186\"],[0.8,\"#7fbc41\"],[0.9,\"#4d9221\"],[1,\"#276419\"]]},\"xaxis\":{\"gridcolor\":\"white\",\"linecolor\":\"white\",\"ticks\":\"\",\"title\":{\"standoff\":15},\"zerolinecolor\":\"white\",\"automargin\":true,\"zerolinewidth\":2},\"yaxis\":{\"gridcolor\":\"white\",\"linecolor\":\"white\",\"ticks\":\"\",\"title\":{\"standoff\":15},\"zerolinecolor\":\"white\",\"automargin\":true,\"zerolinewidth\":2},\"scene\":{\"xaxis\":{\"backgroundcolor\":\"#E5ECF6\",\"gridcolor\":\"white\",\"linecolor\":\"white\",\"showbackground\":true,\"ticks\":\"\",\"zerolinecolor\":\"white\",\"gridwidth\":2},\"yaxis\":{\"backgroundcolor\":\"#E5ECF6\",\"gridcolor\":\"white\",\"linecolor\":\"white\",\"showbackground\":true,\"ticks\":\"\",\"zerolinecolor\":\"white\",\"gridwidth\":2},\"zaxis\":{\"backgroundcolor\":\"#E5ECF6\",\"gridcolor\":\"white\",\"linecolor\":\"white\",\"showbackground\":true,\"ticks\":\"\",\"zerolinecolor\":\"white\",\"gridwidth\":2}},\"shapedefaults\":{\"line\":{\"color\":\"#2a3f5f\"}},\"annotationdefaults\":{\"arrowcolor\":\"#2a3f5f\",\"arrowhead\":0,\"arrowwidth\":1},\"geo\":{\"bgcolor\":\"white\",\"landcolor\":\"#E5ECF6\",\"subunitcolor\":\"white\",\"showland\":true,\"showlakes\":true,\"lakecolor\":\"white\"},\"title\":{\"x\":0.05},\"mapbox\":{\"style\":\"light\"}}},\"xaxis\":{\"anchor\":\"y\",\"domain\":[0.0,1.0],\"title\":{\"text\":\"name\"}},\"yaxis\":{\"anchor\":\"x\",\"domain\":[0.0,1.0],\"title\":{\"text\":\"rating_average\"}},\"coloraxis\":{\"colorbar\":{\"title\":{\"text\":\"discount_rate\"}},\"colorscale\":[[0.0,\"#0d0887\"],[0.1111111111111111,\"#46039f\"],[0.2222222222222222,\"#7201a8\"],[0.3333333333333333,\"#9c179e\"],[0.4444444444444444,\"#bd3786\"],[0.5555555555555556,\"#d8576b\"],[0.6666666666666666,\"#ed7953\"],[0.7777777777777778,\"#fb9f3a\"],[0.8888888888888888,\"#fdca26\"],[1.0,\"#f0f921\"]]},\"legend\":{\"tracegroupgap\":0},\"margin\":{\"t\":60},\"barmode\":\"relative\"},                        {\"responsive\": true}                    ).then(function(){\n",
       "                            \n",
       "var gd = document.getElementById('a03f35d9-54c8-4041-9caf-3c937303a63f');\n",
       "var x = new MutationObserver(function (mutations, observer) {{\n",
       "        var display = window.getComputedStyle(gd).display;\n",
       "        if (!display || display === 'none') {{\n",
       "            console.log([gd, 'removed!']);\n",
       "            Plotly.purge(gd);\n",
       "            observer.disconnect();\n",
       "        }}\n",
       "}});\n",
       "\n",
       "// Listen for the removal of the full notebook cells\n",
       "var notebookContainer = gd.closest('#notebook-container');\n",
       "if (notebookContainer) {{\n",
       "    x.observe(notebookContainer, {childList: true});\n",
       "}}\n",
       "\n",
       "// Listen for the clearing of the current output cell\n",
       "var outputEl = gd.closest('.output');\n",
       "if (outputEl) {{\n",
       "    x.observe(outputEl, {childList: true});\n",
       "}}\n",
       "\n",
       "                        })                };                });            </script>        </div>"
      ]
     },
     "metadata": {},
     "output_type": "display_data"
    }
   ],
   "source": [
    "fig = px.bar(mostSold, x='name', y= 'rating_average', color='discount_rate')\n",
    "fig.show()"
   ]
  },
  {
   "cell_type": "markdown",
   "metadata": {},
   "source": [
    "### Biểu đồ biểu diễn số lượng đánh giá của sản phẩm"
   ]
  },
  {
   "cell_type": "code",
   "execution_count": 8,
   "metadata": {},
   "outputs": [
    {
     "data": {
      "text/plain": [
       "Text(0, 0.5, 'count')"
      ]
     },
     "execution_count": 8,
     "metadata": {},
     "output_type": "execute_result"
    },
    {
     "data": {
      "image/png": "[encoded data removed]",
      "text/plain": [
       "<Figure size 2016x648 with 1 Axes>"
      ]
     },
     "metadata": {
      "needs_background": "light"
     },
     "output_type": "display_data"
    }
   ],
   "source": [
    "plt.figure(figsize = (28,9))\n",
    "df.review_count.value_counts().plot(kind='bar')\n",
    "plt.xlabel('review_count')\n",
    "plt.ylabel('count')"
   ]
  },
  {
   "cell_type": "markdown",
   "metadata": {},
   "source": [
    "### Biểu đồ biểu diễn số lượng điểm đánh giá của sản phẩm"
   ]
  },
  {
   "cell_type": "code",
   "execution_count": 9,
   "metadata": {},
   "outputs": [
    {
     "data": {
      "text/plain": [
       "Text(0, 0.5, 'count')"
      ]
     },
     "execution_count": 9,
     "metadata": {},
     "output_type": "execute_result"
    },
    {
     "data": {
      "image/png": "[encoded data removed]",
      "text/plain": [
       "<Figure size 2016x648 with 1 Axes>"
      ]
     },
     "metadata": {
      "needs_background": "light"
     },
     "output_type": "display_data"
    }
   ],
   "source": [
    "plt.figure(figsize = (28,9))\n",
    "df.rating_average.value_counts().plot(kind='bar')\n",
    "plt.xlabel('rating_average')\n",
    "plt.ylabel('count')"
   ]
  },
  {
   "cell_type": "markdown",
   "metadata": {},
   "source": [
    "### Các biểu đồ tròn thể hiện số lượng điểm đánh giá, discount, review của sản phẩm"
   ]
  },
  {
   "cell_type": "code",
   "execution_count": 10,
   "metadata": {},
   "outputs": [
    {
     "data": {
      "text/plain": [
       "<AxesSubplot:ylabel='review_count'>"
      ]
     },
     "execution_count": 10,
     "metadata": {},
     "output_type": "execute_result"
    },
    {
     "data": {
      "image/png": "[encoded data removed]",
      "text/plain": [
       "<Figure size 1080x360 with 3 Axes>"
      ]
     },
     "metadata": {},
     "output_type": "display_data"
    }
   ],
   "source": [
    "plt.figure(figsize=(15,5))\n",
    "plt.subplot(131)\n",
    "df['rating_average'].value_counts().plot(kind = 'pie')\n",
    "plt.subplot(132)\n",
    "df['discount_rate'].value_counts().plot(kind = 'pie')\n",
    "plt.subplot(133)\n",
    "df['review_count'].value_counts().plot(kind = 'pie')"
   ]
  },
  {
   "cell_type": "markdown",
   "metadata": {},
   "source": [
    "### Pairplot thể hiện độ tương quan giữa các đặc trưng "
   ]
  },
  {
   "cell_type": "code",
   "execution_count": 31,
   "metadata": {},
   "outputs": [
    {
     "data": {
      "text/plain": [
       "<seaborn.axisgrid.PairGrid at 0x228ae77c3a0>"
      ]
     },
     "execution_count": 31,
     "metadata": {},
     "output_type": "execute_result"
    },
    {
     "data": {
      "image/png": "[encoded data removed]",
      "text/plain": [
       "<Figure size 1080x1080 with 42 Axes>"
      ]
     },
     "metadata": {
      "needs_background": "light"
     },
     "output_type": "display_data"
    }
   ],
   "source": [
    "df1=pd.read_csv('E:\\KHDL\\data\\output1.csv', usecols=['review_count','price','day_ago_created', 'discount', 'all_time_quantity_sold', 'productset_group_name'])\n",
    "lookupTable, indexed_dataSet = np.unique(df['productset_group_name'], return_inverse=True)\n",
    "df1['productset_group_name'] = indexed_dataSet\n",
    "sns.pairplot(df1)"
   ]
  },
  {
   "cell_type": "code",
   "execution_count": null,
   "metadata": {},
   "outputs": [],
   "source": []
  },
  {
   "cell_type": "markdown",
   "metadata": {},
   "source": [
    "### Xử lý các dữ liệu trống"
   ]
  },
  {
   "cell_type": "code",
   "execution_count": 12,
   "metadata": {},
   "outputs": [],
   "source": [
    "median=df['day_ago_created'].median() \n",
    "df['day_ago_created']=df['day_ago_created'].fillna(median)"
   ]
  },
  {
   "cell_type": "code",
   "execution_count": 13,
   "metadata": {},
   "outputs": [],
   "source": [
    "df['all_time_quantity_sold']=df['all_time_quantity_sold'].fillna(0)"
   ]
  },
  {
   "cell_type": "markdown",
   "metadata": {},
   "source": [
    "### Chọn ra các đặc trưng để tiến hành huấn luyện các mô hình"
   ]
  },
  {
   "cell_type": "code",
   "execution_count": 14,
   "metadata": {},
   "outputs": [],
   "source": [
    "X = df[['review_count', 'price', 'day_ago_created','gr_name','discount']]\n",
    "y = df['all_time_quantity_sold']"
   ]
  },
  {
   "cell_type": "markdown",
   "metadata": {},
   "source": [
    "## LinearRegression"
   ]
  },
  {
   "cell_type": "code",
   "execution_count": 15,
   "metadata": {},
   "outputs": [
    {
     "data": {
      "text/plain": [
       "[0.940061328902871,\n",
       " 0.9087571597787794,\n",
       " 0.8374188029825044,\n",
       " 0.8646084297105037,\n",
       " 0.8150432221437117,\n",
       " 0.8020732575148993,\n",
       " 0.9362750155723013,\n",
       " 0.8141742591181677,\n",
       " 0.6207125577237451,\n",
       " 0.9533397644857948]"
      ]
     },
     "execution_count": 15,
     "metadata": {},
     "output_type": "execute_result"
    }
   ],
   "source": [
    "reg = LinearRegression()\n",
    "scoresL = []\n",
    "for i in range(10):\n",
    "    X_train, X_test, y_train, y_test = train_test_split(X, y, test_size=0.3, random_state=i)\n",
    "    reg.fit(X_train, y_train)\n",
    "    pred = reg.predict(X_test)\n",
    "    scoresL.append(reg.score(X_test, y_test))\n",
    "scoresL"
   ]
  },
  {
   "cell_type": "code",
   "execution_count": 16,
   "metadata": {},
   "outputs": [
    {
     "data": {
      "text/plain": [
       "0.8492463797933277"
      ]
     },
     "execution_count": 16,
     "metadata": {},
     "output_type": "execute_result"
    }
   ],
   "source": [
    "sum=0\n",
    "for i in scoresL:\n",
    "    sum+=i\n",
    "sum/=len(scoresL)\n",
    "sumLinear = sum\n",
    "sumLinear"
   ]
  },
  {
   "cell_type": "markdown",
   "metadata": {},
   "source": [
    "## RandomForestRegressor"
   ]
  },
  {
   "cell_type": "code",
   "execution_count": 17,
   "metadata": {},
   "outputs": [
    {
     "data": {
      "text/plain": [
       "[0.8702904430758599,\n",
       " 0.9355884921322477,\n",
       " 0.8927613801405403,\n",
       " 0.9191869798018045,\n",
       " 0.9162770587244515,\n",
       " 0.9216381748253073,\n",
       " 0.9210939293952773,\n",
       " 0.9231217613565996,\n",
       " 0.9236654244494518,\n",
       " 0.9221650655148208,\n",
       " 0.920501738191118,\n",
       " 0.92446810205952,\n",
       " 0.9244107064059304,\n",
       " 0.9224713061309203,\n",
       " 0.9206676189056148,\n",
       " 0.9138092169642462,\n",
       " 0.9170326345480126,\n",
       " 0.9224738257920404,\n",
       " 0.9217186871438022]"
      ]
     },
     "execution_count": 17,
     "metadata": {},
     "output_type": "execute_result"
    }
   ],
   "source": [
    "regR = RandomForestRegressor()\n",
    "scores = []\n",
    "estimators = np.arange(10, 200, 10)\n",
    "for n in estimators:\n",
    "    X_train, X_test, y_train, y_test = train_test_split(X, y, test_size=0.3, random_state=2)\n",
    "    regR.set_params(n_estimators=n)\n",
    "    regR.fit(X_train, y_train)\n",
    "    scores.append(regR.score(X_test, y_test))\n",
    "scores"
   ]
  },
  {
   "cell_type": "code",
   "execution_count": 18,
   "metadata": {},
   "outputs": [
    {
     "data": {
      "text/plain": [
       "0.9175443445030297"
      ]
     },
     "execution_count": 18,
     "metadata": {},
     "output_type": "execute_result"
    }
   ],
   "source": [
    "sum=0\n",
    "for i in scores:\n",
    "    sum+=i\n",
    "sum/=len(scores)\n",
    "sumRandomForest = sum\n",
    "sumRandomForest"
   ]
  },
  {
   "cell_type": "markdown",
   "metadata": {},
   "source": [
    "## Lọc ra những đặc trưng chỉ chứa dữ liệu kiểu số để có thể tiến hành fit transform"
   ]
  },
  {
   "cell_type": "code",
   "execution_count": 19,
   "metadata": {},
   "outputs": [],
   "source": [
    "df1=pd.read_csv('E:\\KHDL\\data\\output1.csv', usecols=['review_count','price','day_ago_created', 'discount', 'all_time_quantity_sold', 'productset_group_name'])\n",
    "lookupTable, indexed_dataSet = np.unique(df['productset_group_name'], return_inverse=True)\n",
    "df1['productset_group_name'] = indexed_dataSet\n",
    "median=df['all_time_quantity_sold'].median()\n",
    "df1['all_time_quantity_sold']=df1['all_time_quantity_sold'].fillna(median)\n",
    "median=df1['day_ago_created'].median() \n",
    "df1['day_ago_created']=df1['day_ago_created'].fillna(median)\n",
    "df1['gr_name'] = df1['productset_group_name']"
   ]
  },
  {
   "cell_type": "code",
   "execution_count": 20,
   "metadata": {},
   "outputs": [
    {
     "name": "stdout",
     "output_type": "stream",
     "text": [
      "<class 'pandas.core.frame.DataFrame'>\n",
      "RangeIndex: 1000 entries, 0 to 999\n",
      "Data columns (total 7 columns):\n",
      " #   Column                  Non-Null Count  Dtype  \n",
      "---  ------                  --------------  -----  \n",
      " 0   price                   1000 non-null   int64  \n",
      " 1   discount                1000 non-null   int64  \n",
      " 2   review_count            1000 non-null   int64  \n",
      " 3   productset_group_name   1000 non-null   int64  \n",
      " 4   day_ago_created         1000 non-null   float64\n",
      " 5   all_time_quantity_sold  1000 non-null   float64\n",
      " 6   gr_name                 1000 non-null   int64  \n",
      "dtypes: float64(2), int64(5)\n",
      "memory usage: 54.8 KB\n"
     ]
    }
   ],
   "source": [
    "df1.info()"
   ]
  },
  {
   "cell_type": "code",
   "execution_count": 32,
   "metadata": {},
   "outputs": [
    {
     "data": {
      "text/html": [
       "<div>\n",
       "<style scoped>\n",
       "    .dataframe tbody tr th:only-of-type {\n",
       "        vertical-align: middle;\n",
       "    }\n",
       "\n",
       "    .dataframe tbody tr th {\n",
       "        vertical-align: top;\n",
       "    }\n",
       "\n",
       "    .dataframe thead th {\n",
       "        text-align: right;\n",
       "    }\n",
       "</style>\n",
       "<table border=\"1\" class=\"dataframe\">\n",
       "  <thead>\n",
       "    <tr style=\"text-align: right;\">\n",
       "      <th></th>\n",
       "      <th>price</th>\n",
       "      <th>discount</th>\n",
       "      <th>review_count</th>\n",
       "      <th>productset_group_name</th>\n",
       "      <th>day_ago_created</th>\n",
       "      <th>all_time_quantity_sold</th>\n",
       "    </tr>\n",
       "  </thead>\n",
       "  <tbody>\n",
       "    <tr>\n",
       "      <th>0</th>\n",
       "      <td>1537000</td>\n",
       "      <td>658000</td>\n",
       "      <td>9</td>\n",
       "      <td>243</td>\n",
       "      <td>185.0</td>\n",
       "      <td>15.0</td>\n",
       "    </tr>\n",
       "    <tr>\n",
       "      <th>1</th>\n",
       "      <td>1207000</td>\n",
       "      <td>0</td>\n",
       "      <td>372</td>\n",
       "      <td>243</td>\n",
       "      <td>238.0</td>\n",
       "      <td>752.0</td>\n",
       "    </tr>\n",
       "    <tr>\n",
       "      <th>2</th>\n",
       "      <td>39900000</td>\n",
       "      <td>0</td>\n",
       "      <td>513</td>\n",
       "      <td>319</td>\n",
       "      <td>734.0</td>\n",
       "      <td>1175.0</td>\n",
       "    </tr>\n",
       "    <tr>\n",
       "      <th>3</th>\n",
       "      <td>1086000</td>\n",
       "      <td>121000</td>\n",
       "      <td>38</td>\n",
       "      <td>243</td>\n",
       "      <td>301.0</td>\n",
       "      <td>71.0</td>\n",
       "    </tr>\n",
       "    <tr>\n",
       "      <th>4</th>\n",
       "      <td>699000</td>\n",
       "      <td>0</td>\n",
       "      <td>1</td>\n",
       "      <td>243</td>\n",
       "      <td>965.0</td>\n",
       "      <td>10.0</td>\n",
       "    </tr>\n",
       "  </tbody>\n",
       "</table>\n",
       "</div>"
      ],
      "text/plain": [
       "      price  discount  review_count  productset_group_name  day_ago_created  \\\n",
       "0   1537000    658000             9                    243            185.0   \n",
       "1   1207000         0           372                    243            238.0   \n",
       "2  39900000         0           513                    319            734.0   \n",
       "3   1086000    121000            38                    243            301.0   \n",
       "4    699000         0             1                    243            965.0   \n",
       "\n",
       "   all_time_quantity_sold  \n",
       "0                    15.0  \n",
       "1                   752.0  \n",
       "2                  1175.0  \n",
       "3                    71.0  \n",
       "4                    10.0  "
      ]
     },
     "execution_count": 32,
     "metadata": {},
     "output_type": "execute_result"
    }
   ],
   "source": [
    "df1.head(5)"
   ]
  },
  {
   "cell_type": "markdown",
   "metadata": {},
   "source": [
    "## Chuẩn hóa Min Max"
   ]
  },
  {
   "cell_type": "code",
   "execution_count": 21,
   "metadata": {},
   "outputs": [
    {
     "data": {
      "text/html": [
       "<div>\n",
       "<style scoped>\n",
       "    .dataframe tbody tr th:only-of-type {\n",
       "        vertical-align: middle;\n",
       "    }\n",
       "\n",
       "    .dataframe tbody tr th {\n",
       "        vertical-align: top;\n",
       "    }\n",
       "\n",
       "    .dataframe thead th {\n",
       "        text-align: right;\n",
       "    }\n",
       "</style>\n",
       "<table border=\"1\" class=\"dataframe\">\n",
       "  <thead>\n",
       "    <tr style=\"text-align: right;\">\n",
       "      <th></th>\n",
       "      <th>price</th>\n",
       "      <th>discount</th>\n",
       "      <th>review_count</th>\n",
       "      <th>productset_group_name</th>\n",
       "      <th>day_ago_created</th>\n",
       "      <th>all_time_quantity_sold</th>\n",
       "      <th>gr_name</th>\n",
       "    </tr>\n",
       "  </thead>\n",
       "  <tbody>\n",
       "    <tr>\n",
       "      <th>0</th>\n",
       "      <td>0.021933</td>\n",
       "      <td>0.059818</td>\n",
       "      <td>0.017544</td>\n",
       "      <td>0.680672</td>\n",
       "      <td>0.000251</td>\n",
       "      <td>0.012766</td>\n",
       "      <td>0.680672</td>\n",
       "    </tr>\n",
       "    <tr>\n",
       "      <th>1</th>\n",
       "      <td>0.017211</td>\n",
       "      <td>0.000000</td>\n",
       "      <td>0.725146</td>\n",
       "      <td>0.680672</td>\n",
       "      <td>0.000323</td>\n",
       "      <td>0.640000</td>\n",
       "      <td>0.680672</td>\n",
       "    </tr>\n",
       "    <tr>\n",
       "      <th>2</th>\n",
       "      <td>0.570791</td>\n",
       "      <td>0.000000</td>\n",
       "      <td>1.000000</td>\n",
       "      <td>0.893557</td>\n",
       "      <td>0.000995</td>\n",
       "      <td>1.000000</td>\n",
       "      <td>0.893557</td>\n",
       "    </tr>\n",
       "    <tr>\n",
       "      <th>3</th>\n",
       "      <td>0.015480</td>\n",
       "      <td>0.011000</td>\n",
       "      <td>0.074074</td>\n",
       "      <td>0.680672</td>\n",
       "      <td>0.000408</td>\n",
       "      <td>0.060426</td>\n",
       "      <td>0.680672</td>\n",
       "    </tr>\n",
       "    <tr>\n",
       "      <th>4</th>\n",
       "      <td>0.009943</td>\n",
       "      <td>0.000000</td>\n",
       "      <td>0.001949</td>\n",
       "      <td>0.680672</td>\n",
       "      <td>0.001308</td>\n",
       "      <td>0.008511</td>\n",
       "      <td>0.680672</td>\n",
       "    </tr>\n",
       "  </tbody>\n",
       "</table>\n",
       "</div>"
      ],
      "text/plain": [
       "      price  discount  review_count  productset_group_name  day_ago_created  \\\n",
       "0  0.021933  0.059818      0.017544               0.680672         0.000251   \n",
       "1  0.017211  0.000000      0.725146               0.680672         0.000323   \n",
       "2  0.570791  0.000000      1.000000               0.893557         0.000995   \n",
       "3  0.015480  0.011000      0.074074               0.680672         0.000408   \n",
       "4  0.009943  0.000000      0.001949               0.680672         0.001308   \n",
       "\n",
       "   all_time_quantity_sold   gr_name  \n",
       "0                0.012766  0.680672  \n",
       "1                0.640000  0.680672  \n",
       "2                1.000000  0.893557  \n",
       "3                0.060426  0.680672  \n",
       "4                0.008511  0.680672  "
      ]
     },
     "execution_count": 21,
     "metadata": {},
     "output_type": "execute_result"
    }
   ],
   "source": [
    "from sklearn.preprocessing import MinMaxScaler\n",
    "min_max=MinMaxScaler()\n",
    "df_minmax=pd.DataFrame(min_max.fit_transform(df1),columns=df1.columns)\n",
    "df_minmax.head()"
   ]
  },
  {
   "cell_type": "code",
   "execution_count": 22,
   "metadata": {},
   "outputs": [],
   "source": [
    "X = df_minmax[['review_count', 'price', 'day_ago_created','gr_name','discount']]\n",
    "y = df_minmax['all_time_quantity_sold']"
   ]
  },
  {
   "cell_type": "markdown",
   "metadata": {},
   "source": [
    "### LinearRegression"
   ]
  },
  {
   "cell_type": "code",
   "execution_count": 23,
   "metadata": {},
   "outputs": [
    {
     "data": {
      "text/plain": [
       "0.8492463797933276"
      ]
     },
     "execution_count": 23,
     "metadata": {},
     "output_type": "execute_result"
    }
   ],
   "source": [
    "reg = LinearRegression()\n",
    "scoresL = []\n",
    "for i in range(10):\n",
    "    X_train, X_test, y_train, y_test = train_test_split(X, y, test_size=0.3, random_state=i)\n",
    "    reg.fit(X_train, y_train)\n",
    "# pred = reg.predict(X_test)\n",
    "    scoresL.append(reg.score(X_test, y_test))\n",
    "scoresL\n",
    "sum=0\n",
    "for i in scoresL:\n",
    "    sum+=i\n",
    "sum/=len(scoresL)\n",
    "sumLinearminmax = sum\n",
    "sumLinearminmax"
   ]
  },
  {
   "cell_type": "markdown",
   "metadata": {},
   "source": [
    "### RandomForestRegressor"
   ]
  },
  {
   "cell_type": "code",
   "execution_count": 24,
   "metadata": {},
   "outputs": [
    {
     "data": {
      "text/plain": [
       "0.909244069864165"
      ]
     },
     "execution_count": 24,
     "metadata": {},
     "output_type": "execute_result"
    }
   ],
   "source": [
    "regR = RandomForestRegressor()\n",
    "scores = []\n",
    "estimators = np.arange(10, 200, 10)\n",
    "for n in estimators:\n",
    "    X_train, X_test, y_train, y_test = train_test_split(X, y, test_size=0.3, random_state=2)\n",
    "    regR.set_params(n_estimators=n)\n",
    "    regR.fit(X_train, y_train)\n",
    "    scores.append(regR.score(X_test, y_test))\n",
    "sum=0\n",
    "for i in scores:\n",
    "    sum+=i\n",
    "sum/=len(scores)\n",
    "sumRandomForestminmax = sum\n",
    "sumRandomForestminmax"
   ]
  },
  {
   "cell_type": "markdown",
   "metadata": {},
   "source": [
    "## Chuẩn hóa Robust"
   ]
  },
  {
   "cell_type": "code",
   "execution_count": 25,
   "metadata": {},
   "outputs": [
    {
     "data": {
      "text/html": [
       "<div>\n",
       "<style scoped>\n",
       "    .dataframe tbody tr th:only-of-type {\n",
       "        vertical-align: middle;\n",
       "    }\n",
       "\n",
       "    .dataframe tbody tr th {\n",
       "        vertical-align: top;\n",
       "    }\n",
       "\n",
       "    .dataframe thead th {\n",
       "        text-align: right;\n",
       "    }\n",
       "</style>\n",
       "<table border=\"1\" class=\"dataframe\">\n",
       "  <thead>\n",
       "    <tr style=\"text-align: right;\">\n",
       "      <th></th>\n",
       "      <th>price</th>\n",
       "      <th>discount</th>\n",
       "      <th>review_count</th>\n",
       "      <th>productset_group_name</th>\n",
       "      <th>day_ago_created</th>\n",
       "      <th>all_time_quantity_sold</th>\n",
       "      <th>gr_name</th>\n",
       "    </tr>\n",
       "  </thead>\n",
       "  <tbody>\n",
       "    <tr>\n",
       "      <th>0</th>\n",
       "      <td>4.146875</td>\n",
       "      <td>658000.0</td>\n",
       "      <td>9.0</td>\n",
       "      <td>0.206096</td>\n",
       "      <td>-0.139031</td>\n",
       "      <td>15.0</td>\n",
       "      <td>0.206096</td>\n",
       "    </tr>\n",
       "    <tr>\n",
       "      <th>1</th>\n",
       "      <td>3.115625</td>\n",
       "      <td>0.0</td>\n",
       "      <td>372.0</td>\n",
       "      <td>0.206096</td>\n",
       "      <td>-0.018234</td>\n",
       "      <td>752.0</td>\n",
       "      <td>0.206096</td>\n",
       "    </tr>\n",
       "    <tr>\n",
       "      <th>2</th>\n",
       "      <td>124.031250</td>\n",
       "      <td>0.0</td>\n",
       "      <td>513.0</td>\n",
       "      <td>0.647315</td>\n",
       "      <td>1.112251</td>\n",
       "      <td>1175.0</td>\n",
       "      <td>0.647315</td>\n",
       "    </tr>\n",
       "    <tr>\n",
       "      <th>3</th>\n",
       "      <td>2.737500</td>\n",
       "      <td>121000.0</td>\n",
       "      <td>38.0</td>\n",
       "      <td>0.206096</td>\n",
       "      <td>0.125356</td>\n",
       "      <td>71.0</td>\n",
       "      <td>0.206096</td>\n",
       "    </tr>\n",
       "    <tr>\n",
       "      <th>4</th>\n",
       "      <td>1.528125</td>\n",
       "      <td>0.0</td>\n",
       "      <td>1.0</td>\n",
       "      <td>0.206096</td>\n",
       "      <td>1.638746</td>\n",
       "      <td>10.0</td>\n",
       "      <td>0.206096</td>\n",
       "    </tr>\n",
       "  </tbody>\n",
       "</table>\n",
       "</div>"
      ],
      "text/plain": [
       "        price  discount  review_count  productset_group_name  day_ago_created  \\\n",
       "0    4.146875  658000.0           9.0               0.206096        -0.139031   \n",
       "1    3.115625       0.0         372.0               0.206096        -0.018234   \n",
       "2  124.031250       0.0         513.0               0.647315         1.112251   \n",
       "3    2.737500  121000.0          38.0               0.206096         0.125356   \n",
       "4    1.528125       0.0           1.0               0.206096         1.638746   \n",
       "\n",
       "   all_time_quantity_sold   gr_name  \n",
       "0                    15.0  0.206096  \n",
       "1                   752.0  0.206096  \n",
       "2                  1175.0  0.647315  \n",
       "3                    71.0  0.206096  \n",
       "4                    10.0  0.206096  "
      ]
     },
     "execution_count": 25,
     "metadata": {},
     "output_type": "execute_result"
    }
   ],
   "source": [
    "from sklearn.preprocessing import RobustScaler\n",
    "scaler=RobustScaler()\n",
    "df_robust_scaler=pd.DataFrame(scaler.fit_transform(df1),columns=df1.columns)\n",
    "df_robust_scaler.head()"
   ]
  },
  {
   "cell_type": "markdown",
   "metadata": {},
   "source": [
    "### LinearRegression"
   ]
  },
  {
   "cell_type": "code",
   "execution_count": 26,
   "metadata": {},
   "outputs": [
    {
     "data": {
      "text/plain": [
       "0.8492463797933276"
      ]
     },
     "execution_count": 26,
     "metadata": {},
     "output_type": "execute_result"
    }
   ],
   "source": [
    "reg = LinearRegression()\n",
    "scoresL = []\n",
    "for i in range(10):\n",
    "    X_train, X_test, y_train, y_test = train_test_split(X, y, test_size=0.3, random_state=i)\n",
    "    reg.fit(X_train, y_train)\n",
    "# pred = reg.predict(X_test)\n",
    "    scoresL.append(reg.score(X_test, y_test))\n",
    "scoresL\n",
    "sum=0\n",
    "for i in scoresL:\n",
    "    sum+=i\n",
    "sum/=len(scoresL)\n",
    "sumLinearrobust = sum\n",
    "sumLinearrobust"
   ]
  },
  {
   "cell_type": "markdown",
   "metadata": {},
   "source": [
    "### RandomForestRegressor"
   ]
  },
  {
   "cell_type": "code",
   "execution_count": 27,
   "metadata": {},
   "outputs": [
    {
     "data": {
      "text/plain": [
       "0.9196623779273615"
      ]
     },
     "execution_count": 27,
     "metadata": {},
     "output_type": "execute_result"
    }
   ],
   "source": [
    "regR = RandomForestRegressor()\n",
    "scores = []\n",
    "estimators = np.arange(10, 200, 10)\n",
    "for n in estimators:\n",
    "    X_train, X_test, y_train, y_test = train_test_split(X, y, test_size=0.3, random_state=2)\n",
    "    regR.set_params(n_estimators=n)\n",
    "    regR.fit(X_train, y_train)\n",
    "    scores.append(regR.score(X_test, y_test))\n",
    "sum=0\n",
    "for i in scores:\n",
    "    sum+=i\n",
    "sum/=len(scores)\n",
    "sumRandomForestrobust = sum\n",
    "sumRandomForestrobust"
   ]
  },
  {
   "cell_type": "markdown",
   "metadata": {},
   "source": [
    "## Bảng đánh giá độ chính xác"
   ]
  },
  {
   "cell_type": "code",
   "execution_count": 28,
   "metadata": {},
   "outputs": [
    {
     "name": "stdout",
     "output_type": "stream",
     "text": [
      "                   NaN    MinMax    Robust\n",
      "Linear        0.849246  0.849246  0.849246\n",
      "RandomForest  0.917544  0.909244  0.919662\n"
     ]
    }
   ],
   "source": [
    "dict={\n",
    "    'NaN': [sumLinear, sumRandomForest],\n",
    "    'MinMax': [sumLinearminmax, sumRandomForestminmax],\n",
    "    'Robust': [sumLinearrobust, sumRandomForestrobust],\n",
    "}\n",
    "print(pd.DataFrame(dict,index=['Linear','RandomForest']))"
   ]
  },
  {
   "cell_type": "markdown",
   "metadata": {},
   "source": [
    "### Khi áp dụng mô hình RandomFores sẽ cho ra kết quả cao hơn, nhưng vì n_estimators là ngẫu nhiên nên không thể xác định được mô hình có sử dụng phương pháp chuẩn hóa nào hay không sẽ có độ chính xác cao hơn"
   ]
  },
  {
   "cell_type": "markdown",
   "metadata": {},
   "source": [
    "## Kết luận: Bài toán dự đoán số lượng sản phẩm đã bán tại tiki.vn khi áp dụng mô hình RandomForest cho ra kết quả cao, với độ chính xác thuật toán lớn hơn 91%"
   ]
  },
  {
   "cell_type": "markdown",
   "metadata": {},
   "source": [
    "# Cảm ơn thầy và các bạn đã lắng nghe!"
   ]
  }
 ],
 "metadata": {
  "kernelspec": {
   "display_name": "Python 3.9.7 64-bit",
   "language": "python",
   "name": "python3"
  },
  "language_info": {
   "codemirror_mode": {
    "name": "ipython",
    "version": 3
   },
   "file_extension": ".py",
   "mimetype": "text/x-python",
   "name": "python",
   "nbconvert_exporter": "python",
   "pygments_lexer": "ipython3",
   "version": "3.9.7"
  },
  "orig_nbformat": 4,
  "vscode": {
   "interpreter": {
    "hash": "0d591c6e422414675974e227c13f5382000c440fedd3c5006ef2be5d887f0ba7"
   }
  }
 },
 "nbformat": 4,
 "nbformat_minor": 2
}
